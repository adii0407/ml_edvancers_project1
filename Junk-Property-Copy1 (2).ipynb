{
 "cells": [
  {
   "cell_type": "code",
   "execution_count": 2,
   "metadata": {},
   "outputs": [],
   "source": [
    "import numpy as np\n",
    "import pandas as pd\n",
    "import seaborn as sns\n",
    "%matplotlib inline\n",
    "import matplotlib.pyplot as plt\n",
    "import category_encoders as ce\n",
    "from sklearn import metrics as mt\n",
    "from sklearn.impute import KNNImputer\n"
   ]
  },
  {
   "cell_type": "code",
   "execution_count": 3,
   "metadata": {},
   "outputs": [],
   "source": [
    "train=pd.read_csv(r'/Data/Property_train.csv', na_values='missing')\n",
    "test=pd.read_csv(r'/Data/Property_test_share.csv', na_values='missing')"
   ]
  },
  {
   "cell_type": "code",
   "execution_count": 4,
   "metadata": {},
   "outputs": [
    {
     "data": {
      "text/html": [
       "<div>\n",
       "<style scoped>\n",
       "    .dataframe tbody tr th:only-of-type {\n",
       "        vertical-align: middle;\n",
       "    }\n",
       "\n",
       "    .dataframe tbody tr th {\n",
       "        vertical-align: top;\n",
       "    }\n",
       "\n",
       "    .dataframe thead th {\n",
       "        text-align: right;\n",
       "    }\n",
       "</style>\n",
       "<table border=\"1\" class=\"dataframe\">\n",
       "  <thead>\n",
       "    <tr style=\"text-align: right;\">\n",
       "      <th></th>\n",
       "      <th>Junk</th>\n",
       "      <th>InteriorsStyle</th>\n",
       "      <th>PriceIndex8</th>\n",
       "      <th>ListDate</th>\n",
       "      <th>Material</th>\n",
       "      <th>PriceIndex9</th>\n",
       "      <th>Agency</th>\n",
       "      <th>AreaIncomeType</th>\n",
       "      <th>EnvRating</th>\n",
       "      <th>PriceIndex7</th>\n",
       "      <th>...</th>\n",
       "      <th>Region</th>\n",
       "      <th>PriceIndex5</th>\n",
       "      <th>SubModel</th>\n",
       "      <th>Facade</th>\n",
       "      <th>State</th>\n",
       "      <th>NormalisedPopulation</th>\n",
       "      <th>BuildYear</th>\n",
       "      <th>RegionType</th>\n",
       "      <th>PropertyAge</th>\n",
       "      <th>PriceIndex2</th>\n",
       "    </tr>\n",
       "  </thead>\n",
       "  <tbody>\n",
       "    <tr>\n",
       "      <th>0</th>\n",
       "      <td>0</td>\n",
       "      <td>6LLJ</td>\n",
       "      <td>14674.0</td>\n",
       "      <td>9/7/2010</td>\n",
       "      <td>UT7W</td>\n",
       "      <td>8270</td>\n",
       "      <td>CAT3</td>\n",
       "      <td>B</td>\n",
       "      <td>NaN</td>\n",
       "      <td>13143.0</td>\n",
       "      <td>...</td>\n",
       "      <td>A</td>\n",
       "      <td>9022.0</td>\n",
       "      <td>6E9G</td>\n",
       "      <td>GREEN</td>\n",
       "      <td>MD</td>\n",
       "      <td>42077</td>\n",
       "      <td>2008</td>\n",
       "      <td>A</td>\n",
       "      <td>2</td>\n",
       "      <td>10692.0</td>\n",
       "    </tr>\n",
       "    <tr>\n",
       "      <th>1</th>\n",
       "      <td>1</td>\n",
       "      <td>XZ9F</td>\n",
       "      <td>4172.0</td>\n",
       "      <td>1/7/2009</td>\n",
       "      <td>PRN0</td>\n",
       "      <td>3890</td>\n",
       "      <td>CAT2</td>\n",
       "      <td>B</td>\n",
       "      <td>NaN</td>\n",
       "      <td>3461.0</td>\n",
       "      <td>...</td>\n",
       "      <td>A</td>\n",
       "      <td>2742.0</td>\n",
       "      <td>FIVQ</td>\n",
       "      <td>SILVER</td>\n",
       "      <td>OK</td>\n",
       "      <td>77258</td>\n",
       "      <td>2002</td>\n",
       "      <td>A</td>\n",
       "      <td>7</td>\n",
       "      <td>3615.0</td>\n",
       "    </tr>\n",
       "    <tr>\n",
       "      <th>2</th>\n",
       "      <td>0</td>\n",
       "      <td>QWEV</td>\n",
       "      <td>8210.0</td>\n",
       "      <td>6/23/2010</td>\n",
       "      <td>A9RA</td>\n",
       "      <td>5900</td>\n",
       "      <td>CAT1</td>\n",
       "      <td>B</td>\n",
       "      <td>NaN</td>\n",
       "      <td>6922.0</td>\n",
       "      <td>...</td>\n",
       "      <td>A</td>\n",
       "      <td>3768.0</td>\n",
       "      <td>4K0H</td>\n",
       "      <td>SILVER</td>\n",
       "      <td>SC</td>\n",
       "      <td>94514</td>\n",
       "      <td>2004</td>\n",
       "      <td>A</td>\n",
       "      <td>6</td>\n",
       "      <td>5805.0</td>\n",
       "    </tr>\n",
       "    <tr>\n",
       "      <th>3</th>\n",
       "      <td>0</td>\n",
       "      <td>MK2K</td>\n",
       "      <td>7309.0</td>\n",
       "      <td>3/19/2009</td>\n",
       "      <td>RRJQ</td>\n",
       "      <td>7460</td>\n",
       "      <td>OTHER</td>\n",
       "      <td>A</td>\n",
       "      <td>NaN</td>\n",
       "      <td>6300.0</td>\n",
       "      <td>...</td>\n",
       "      <td>A</td>\n",
       "      <td>5370.0</td>\n",
       "      <td>ZLXY</td>\n",
       "      <td>WHITE</td>\n",
       "      <td>NC</td>\n",
       "      <td>82302</td>\n",
       "      <td>2002</td>\n",
       "      <td>C</td>\n",
       "      <td>7</td>\n",
       "      <td>6444.0</td>\n",
       "    </tr>\n",
       "    <tr>\n",
       "      <th>4</th>\n",
       "      <td>0</td>\n",
       "      <td>GK4G</td>\n",
       "      <td>9182.0</td>\n",
       "      <td>3/3/2010</td>\n",
       "      <td>HE5A</td>\n",
       "      <td>6400</td>\n",
       "      <td>OTHER</td>\n",
       "      <td>B</td>\n",
       "      <td>NaN</td>\n",
       "      <td>8330.0</td>\n",
       "      <td>...</td>\n",
       "      <td>A</td>\n",
       "      <td>4803.0</td>\n",
       "      <td>FIVQ</td>\n",
       "      <td>SILVER</td>\n",
       "      <td>SC</td>\n",
       "      <td>49176</td>\n",
       "      <td>2007</td>\n",
       "      <td>B</td>\n",
       "      <td>3</td>\n",
       "      <td>6286.0</td>\n",
       "    </tr>\n",
       "  </tbody>\n",
       "</table>\n",
       "<p>5 rows × 31 columns</p>\n",
       "</div>"
      ],
      "text/plain": [
       "   Junk InteriorsStyle  PriceIndex8   ListDate Material  PriceIndex9 Agency  \\\n",
       "0     0           6LLJ      14674.0   9/7/2010     UT7W         8270   CAT3   \n",
       "1     1           XZ9F       4172.0   1/7/2009     PRN0         3890   CAT2   \n",
       "2     0           QWEV       8210.0  6/23/2010     A9RA         5900   CAT1   \n",
       "3     0           MK2K       7309.0  3/19/2009     RRJQ         7460  OTHER   \n",
       "4     0           GK4G       9182.0   3/3/2010     HE5A         6400  OTHER   \n",
       "\n",
       "  AreaIncomeType EnvRating  PriceIndex7  ...  Region  PriceIndex5  SubModel  \\\n",
       "0              B       NaN      13143.0  ...       A       9022.0      6E9G   \n",
       "1              B       NaN       3461.0  ...       A       2742.0      FIVQ   \n",
       "2              B       NaN       6922.0  ...       A       3768.0      4K0H   \n",
       "3              A       NaN       6300.0  ...       A       5370.0      ZLXY   \n",
       "4              B       NaN       8330.0  ...       A       4803.0      FIVQ   \n",
       "\n",
       "   Facade State NormalisedPopulation  BuildYear  RegionType PropertyAge  \\\n",
       "0   GREEN    MD                42077       2008           A           2   \n",
       "1  SILVER    OK                77258       2002           A           7   \n",
       "2  SILVER    SC                94514       2004           A           6   \n",
       "3   WHITE    NC                82302       2002           C           7   \n",
       "4  SILVER    SC                49176       2007           B           3   \n",
       "\n",
       "  PriceIndex2  \n",
       "0     10692.0  \n",
       "1      3615.0  \n",
       "2      5805.0  \n",
       "3      6444.0  \n",
       "4      6286.0  \n",
       "\n",
       "[5 rows x 31 columns]"
      ]
     },
     "execution_count": 4,
     "metadata": {},
     "output_type": "execute_result"
    }
   ],
   "source": [
    "train.head()"
   ]
  },
  {
   "cell_type": "code",
   "execution_count": 5,
   "metadata": {},
   "outputs": [
    {
     "data": {
      "text/html": [
       "<div>\n",
       "<style scoped>\n",
       "    .dataframe tbody tr th:only-of-type {\n",
       "        vertical-align: middle;\n",
       "    }\n",
       "\n",
       "    .dataframe tbody tr th {\n",
       "        vertical-align: top;\n",
       "    }\n",
       "\n",
       "    .dataframe thead th {\n",
       "        text-align: right;\n",
       "    }\n",
       "</style>\n",
       "<table border=\"1\" class=\"dataframe\">\n",
       "  <thead>\n",
       "    <tr style=\"text-align: right;\">\n",
       "      <th></th>\n",
       "      <th>InteriorsStyle</th>\n",
       "      <th>PriceIndex8</th>\n",
       "      <th>ListDate</th>\n",
       "      <th>Material</th>\n",
       "      <th>PriceIndex9</th>\n",
       "      <th>Agency</th>\n",
       "      <th>AreaIncomeType</th>\n",
       "      <th>EnvRating</th>\n",
       "      <th>PriceIndex7</th>\n",
       "      <th>ExpeditedListing</th>\n",
       "      <th>...</th>\n",
       "      <th>Region</th>\n",
       "      <th>PriceIndex5</th>\n",
       "      <th>SubModel</th>\n",
       "      <th>Facade</th>\n",
       "      <th>State</th>\n",
       "      <th>NormalisedPopulation</th>\n",
       "      <th>BuildYear</th>\n",
       "      <th>RegionType</th>\n",
       "      <th>PropertyAge</th>\n",
       "      <th>PriceIndex2</th>\n",
       "    </tr>\n",
       "  </thead>\n",
       "  <tbody>\n",
       "    <tr>\n",
       "      <th>0</th>\n",
       "      <td>6LLJ</td>\n",
       "      <td>10645.0</td>\n",
       "      <td>9/22/2010</td>\n",
       "      <td>ZCI3</td>\n",
       "      <td>6015</td>\n",
       "      <td>CAT3</td>\n",
       "      <td>A</td>\n",
       "      <td>NaN</td>\n",
       "      <td>9568.0</td>\n",
       "      <td>0</td>\n",
       "      <td>...</td>\n",
       "      <td>B</td>\n",
       "      <td>5911.0</td>\n",
       "      <td>UA42</td>\n",
       "      <td>BLUE</td>\n",
       "      <td>NC</td>\n",
       "      <td>67549</td>\n",
       "      <td>2006</td>\n",
       "      <td>A</td>\n",
       "      <td>4</td>\n",
       "      <td>8311.0</td>\n",
       "    </tr>\n",
       "    <tr>\n",
       "      <th>1</th>\n",
       "      <td>QD0H</td>\n",
       "      <td>9891.0</td>\n",
       "      <td>3/12/2010</td>\n",
       "      <td>RRJQ</td>\n",
       "      <td>7625</td>\n",
       "      <td>OTHER</td>\n",
       "      <td>A</td>\n",
       "      <td>NaN</td>\n",
       "      <td>8888.0</td>\n",
       "      <td>0</td>\n",
       "      <td>...</td>\n",
       "      <td>A</td>\n",
       "      <td>5370.0</td>\n",
       "      <td>BUNS</td>\n",
       "      <td>BLUE</td>\n",
       "      <td>FL</td>\n",
       "      <td>56570</td>\n",
       "      <td>2004</td>\n",
       "      <td>B</td>\n",
       "      <td>6</td>\n",
       "      <td>7123.0</td>\n",
       "    </tr>\n",
       "    <tr>\n",
       "      <th>2</th>\n",
       "      <td>I7GR</td>\n",
       "      <td>8426.0</td>\n",
       "      <td>10/12/2009</td>\n",
       "      <td>ZCI3</td>\n",
       "      <td>6900</td>\n",
       "      <td>CAT2</td>\n",
       "      <td>B</td>\n",
       "      <td>NaN</td>\n",
       "      <td>7911.0</td>\n",
       "      <td>0</td>\n",
       "      <td>...</td>\n",
       "      <td>A</td>\n",
       "      <td>6862.0</td>\n",
       "      <td>8YTZ</td>\n",
       "      <td>BLACK</td>\n",
       "      <td>OK</td>\n",
       "      <td>51840</td>\n",
       "      <td>2008</td>\n",
       "      <td>A</td>\n",
       "      <td>1</td>\n",
       "      <td>7994.0</td>\n",
       "    </tr>\n",
       "    <tr>\n",
       "      <th>3</th>\n",
       "      <td>5KS5</td>\n",
       "      <td>9269.0</td>\n",
       "      <td>5/20/2010</td>\n",
       "      <td>PRN0</td>\n",
       "      <td>6475</td>\n",
       "      <td>CAT1</td>\n",
       "      <td>B</td>\n",
       "      <td>NaN</td>\n",
       "      <td>7773.0</td>\n",
       "      <td>0</td>\n",
       "      <td>...</td>\n",
       "      <td>A</td>\n",
       "      <td>4872.0</td>\n",
       "      <td>FIVQ</td>\n",
       "      <td>GREEN</td>\n",
       "      <td>CO</td>\n",
       "      <td>83300</td>\n",
       "      <td>2005</td>\n",
       "      <td>A</td>\n",
       "      <td>5</td>\n",
       "      <td>5259.0</td>\n",
       "    </tr>\n",
       "    <tr>\n",
       "      <th>4</th>\n",
       "      <td>918O</td>\n",
       "      <td>5366.0</td>\n",
       "      <td>1/13/2009</td>\n",
       "      <td>C8A4</td>\n",
       "      <td>3960</td>\n",
       "      <td>CAT1</td>\n",
       "      <td>A</td>\n",
       "      <td>NaN</td>\n",
       "      <td>4134.0</td>\n",
       "      <td>0</td>\n",
       "      <td>...</td>\n",
       "      <td>A</td>\n",
       "      <td>3365.0</td>\n",
       "      <td>KT8F</td>\n",
       "      <td>BLACK</td>\n",
       "      <td>NC</td>\n",
       "      <td>95035</td>\n",
       "      <td>2003</td>\n",
       "      <td>A</td>\n",
       "      <td>6</td>\n",
       "      <td>4362.0</td>\n",
       "    </tr>\n",
       "  </tbody>\n",
       "</table>\n",
       "<p>5 rows × 30 columns</p>\n",
       "</div>"
      ],
      "text/plain": [
       "  InteriorsStyle  PriceIndex8    ListDate Material  PriceIndex9 Agency  \\\n",
       "0           6LLJ      10645.0   9/22/2010     ZCI3         6015   CAT3   \n",
       "1           QD0H       9891.0   3/12/2010     RRJQ         7625  OTHER   \n",
       "2           I7GR       8426.0  10/12/2009     ZCI3         6900   CAT2   \n",
       "3           5KS5       9269.0   5/20/2010     PRN0         6475   CAT1   \n",
       "4           918O       5366.0   1/13/2009     C8A4         3960   CAT1   \n",
       "\n",
       "  AreaIncomeType EnvRating  PriceIndex7  ExpeditedListing  ...  Region  \\\n",
       "0              A       NaN       9568.0                 0  ...       B   \n",
       "1              A       NaN       8888.0                 0  ...       A   \n",
       "2              B       NaN       7911.0                 0  ...       A   \n",
       "3              B       NaN       7773.0                 0  ...       A   \n",
       "4              A       NaN       4134.0                 0  ...       A   \n",
       "\n",
       "   PriceIndex5  SubModel Facade State  NormalisedPopulation  BuildYear  \\\n",
       "0       5911.0      UA42   BLUE    NC                 67549       2006   \n",
       "1       5370.0      BUNS   BLUE    FL                 56570       2004   \n",
       "2       6862.0      8YTZ  BLACK    OK                 51840       2008   \n",
       "3       4872.0      FIVQ  GREEN    CO                 83300       2005   \n",
       "4       3365.0      KT8F  BLACK    NC                 95035       2003   \n",
       "\n",
       "  RegionType PropertyAge  PriceIndex2  \n",
       "0          A           4       8311.0  \n",
       "1          B           6       7123.0  \n",
       "2          A           1       7994.0  \n",
       "3          A           5       5259.0  \n",
       "4          A           6       4362.0  \n",
       "\n",
       "[5 rows x 30 columns]"
      ]
     },
     "execution_count": 5,
     "metadata": {},
     "output_type": "execute_result"
    }
   ],
   "source": [
    "test.head()"
   ]
  },
  {
   "cell_type": "code",
   "execution_count": 6,
   "metadata": {},
   "outputs": [
    {
     "name": "stdout",
     "output_type": "stream",
     "text": [
      "Shape of Train data : (62035, 31)\n",
      "Shape of Test data : (10948, 30)\n"
     ]
    }
   ],
   "source": [
    "print('Shape of Train data :',train.shape)\n",
    "print('Shape of Test data :', test.shape)"
   ]
  },
  {
   "cell_type": "code",
   "execution_count": 7,
   "metadata": {},
   "outputs": [
    {
     "name": "stdout",
     "output_type": "stream",
     "text": [
      "Target Variable : {'Junk'}\n"
     ]
    },
    {
     "data": {
      "text/plain": [
       "0    0.877456\n",
       "1    0.122544\n",
       "Name: Junk, dtype: float64"
      ]
     },
     "execution_count": 7,
     "metadata": {},
     "output_type": "execute_result"
    }
   ],
   "source": [
    "#checking event rate \n",
    "#CHeck Target Variable\n",
    "print('Target Variable : {0}'.format(set(train.columns)-set(test.columns)))\n",
    "train['Junk'].value_counts(normalize=True)"
   ]
  },
  {
   "cell_type": "code",
   "execution_count": 8,
   "metadata": {},
   "outputs": [
    {
     "data": {
      "text/plain": [
       "<AxesSubplot:>"
      ]
     },
     "execution_count": 8,
     "metadata": {},
     "output_type": "execute_result"
    },
    {
     "data": {
      "image/png": "[encoded data removed]",
      "text/plain": [
       "<Figure size 432x288 with 1 Axes>"
      ]
     },
     "metadata": {
      "needs_background": "light"
     },
     "output_type": "display_data"
    }
   ],
   "source": [
    "# view the distribution of percentages within the Junk column\n",
    "(train['Junk'].value_counts()/np.float(len(train))).plot.bar()"
   ]
  },
  {
   "cell_type": "code",
   "execution_count": 9,
   "metadata": {},
   "outputs": [
    {
     "name": "stdout",
     "output_type": "stream",
     "text": [
      "class 0: (54433, 31)\n",
      "class 1: (7602, 31)\n"
     ]
    }
   ],
   "source": [
    "#class count\n",
    "class_count_0, class_count_1 = train['Junk'].value_counts()\n",
    "\n",
    "# Separate class\n",
    "class_0 = train[train['Junk'] == 0]\n",
    "class_1 = train[train['Junk'] == 1]# print the shape of the class\n",
    "print('class 0:', class_0.shape)\n",
    "print('class 1:', class_1.shape)"
   ]
  },
  {
   "cell_type": "code",
   "execution_count": 10,
   "metadata": {},
   "outputs": [
    {
     "name": "stdout",
     "output_type": "stream",
     "text": [
      "total class of 1 and 0: 1    54433\n",
      "0    54433\n",
      "Name: Junk, dtype: int64\n"
     ]
    },
    {
     "data": {
      "text/plain": [
       "<AxesSubplot:title={'center':'count (target)'}>"
      ]
     },
     "execution_count": 10,
     "metadata": {},
     "output_type": "execute_result"
    },
    {
     "data": {
      "image/png": "[encoded data removed]",
      "text/plain": [
       "<Figure size 432x288 with 1 Axes>"
      ]
     },
     "metadata": {
      "needs_background": "light"
     },
     "output_type": "display_data"
    }
   ],
   "source": [
    "class_1_over = class_1.sample(class_count_0, replace=True)\n",
    "\n",
    "train = pd.concat([class_1_over, class_0], axis=0)\n",
    "\n",
    "print(\"total class of 1 and 0:\", train['Junk'].value_counts())# plot the count after over-sampelingtrain\n",
    "train['Junk'].value_counts().plot(kind='bar', title='count (target)')\n"
   ]
  },
  {
   "cell_type": "code",
   "execution_count": 11,
   "metadata": {},
   "outputs": [
    {
     "name": "stdout",
     "output_type": "stream",
     "text": [
      "Shape of Train data : (108866, 31)\n",
      "Shape of Test data : (10948, 30)\n"
     ]
    }
   ],
   "source": [
    "print('Shape of Train data :',train.shape)\n",
    "print('Shape of Test data :', test.shape)"
   ]
  },
  {
   "cell_type": "code",
   "execution_count": 12,
   "metadata": {},
   "outputs": [
    {
     "name": "stdout",
     "output_type": "stream",
     "text": [
      "(108866, 32) (10948, 32) (119814, 32)\n"
     ]
    }
   ],
   "source": [
    "test['Junk']=np.nan\n",
    "train['data']='train'\n",
    "test['data']='test'\n",
    "test= test[train.columns]\n",
    "all_data= pd.concat([train, test], axis=0)\n",
    "print(train.shape, test.shape, all_data.shape)"
   ]
  },
  {
   "cell_type": "code",
   "execution_count": 13,
   "metadata": {},
   "outputs": [
    {
     "data": {
      "text/html": [
       "<div>\n",
       "<style scoped>\n",
       "    .dataframe tbody tr th:only-of-type {\n",
       "        vertical-align: middle;\n",
       "    }\n",
       "\n",
       "    .dataframe tbody tr th {\n",
       "        vertical-align: top;\n",
       "    }\n",
       "\n",
       "    .dataframe thead th {\n",
       "        text-align: right;\n",
       "    }\n",
       "</style>\n",
       "<table border=\"1\" class=\"dataframe\">\n",
       "  <thead>\n",
       "    <tr style=\"text-align: right;\">\n",
       "      <th></th>\n",
       "      <th>Junk</th>\n",
       "      <th>InteriorsStyle</th>\n",
       "      <th>PriceIndex8</th>\n",
       "      <th>ListDate</th>\n",
       "      <th>Material</th>\n",
       "      <th>PriceIndex9</th>\n",
       "      <th>Agency</th>\n",
       "      <th>AreaIncomeType</th>\n",
       "      <th>EnvRating</th>\n",
       "      <th>PriceIndex7</th>\n",
       "      <th>...</th>\n",
       "      <th>PriceIndex5</th>\n",
       "      <th>SubModel</th>\n",
       "      <th>Facade</th>\n",
       "      <th>State</th>\n",
       "      <th>NormalisedPopulation</th>\n",
       "      <th>BuildYear</th>\n",
       "      <th>RegionType</th>\n",
       "      <th>PropertyAge</th>\n",
       "      <th>PriceIndex2</th>\n",
       "      <th>data</th>\n",
       "    </tr>\n",
       "  </thead>\n",
       "  <tbody>\n",
       "    <tr>\n",
       "      <th>51677</th>\n",
       "      <td>1.0</td>\n",
       "      <td>YBQJ</td>\n",
       "      <td>10934.0</td>\n",
       "      <td>8/18/2010</td>\n",
       "      <td>C8A4</td>\n",
       "      <td>6670</td>\n",
       "      <td>CAT1</td>\n",
       "      <td>B</td>\n",
       "      <td>NaN</td>\n",
       "      <td>9483.0</td>\n",
       "      <td>...</td>\n",
       "      <td>6199.0</td>\n",
       "      <td>KT8F</td>\n",
       "      <td>SILVER</td>\n",
       "      <td>TX</td>\n",
       "      <td>72268</td>\n",
       "      <td>2006</td>\n",
       "      <td>A</td>\n",
       "      <td>4</td>\n",
       "      <td>7881.0</td>\n",
       "      <td>train</td>\n",
       "    </tr>\n",
       "    <tr>\n",
       "      <th>58520</th>\n",
       "      <td>1.0</td>\n",
       "      <td>BN7D</td>\n",
       "      <td>4203.0</td>\n",
       "      <td>3/18/2009</td>\n",
       "      <td>NYFD</td>\n",
       "      <td>3600</td>\n",
       "      <td>CAT2</td>\n",
       "      <td>A</td>\n",
       "      <td>NaN</td>\n",
       "      <td>3388.0</td>\n",
       "      <td>...</td>\n",
       "      <td>2674.0</td>\n",
       "      <td>CULD</td>\n",
       "      <td>RED</td>\n",
       "      <td>VA</td>\n",
       "      <td>93157</td>\n",
       "      <td>2003</td>\n",
       "      <td>A</td>\n",
       "      <td>6</td>\n",
       "      <td>3766.0</td>\n",
       "      <td>train</td>\n",
       "    </tr>\n",
       "    <tr>\n",
       "      <th>25963</th>\n",
       "      <td>1.0</td>\n",
       "      <td>2XWO</td>\n",
       "      <td>11511.0</td>\n",
       "      <td>6/8/2010</td>\n",
       "      <td>PRN0</td>\n",
       "      <td>6700</td>\n",
       "      <td>CAT2</td>\n",
       "      <td>B</td>\n",
       "      <td>NaN</td>\n",
       "      <td>10705.0</td>\n",
       "      <td>...</td>\n",
       "      <td>6504.0</td>\n",
       "      <td>8YTZ</td>\n",
       "      <td>BLACK</td>\n",
       "      <td>AZ</td>\n",
       "      <td>88598</td>\n",
       "      <td>2007</td>\n",
       "      <td>A</td>\n",
       "      <td>3</td>\n",
       "      <td>7390.0</td>\n",
       "      <td>train</td>\n",
       "    </tr>\n",
       "    <tr>\n",
       "      <th>36662</th>\n",
       "      <td>1.0</td>\n",
       "      <td>DUFA</td>\n",
       "      <td>12354.0</td>\n",
       "      <td>12/1/2010</td>\n",
       "      <td>IKAF</td>\n",
       "      <td>7150</td>\n",
       "      <td>CAT2</td>\n",
       "      <td>B</td>\n",
       "      <td>NaN</td>\n",
       "      <td>11119.0</td>\n",
       "      <td>...</td>\n",
       "      <td>7787.0</td>\n",
       "      <td>XHI5</td>\n",
       "      <td>GREY</td>\n",
       "      <td>FL</td>\n",
       "      <td>91554</td>\n",
       "      <td>2008</td>\n",
       "      <td>A</td>\n",
       "      <td>2</td>\n",
       "      <td>8858.0</td>\n",
       "      <td>train</td>\n",
       "    </tr>\n",
       "    <tr>\n",
       "      <th>29298</th>\n",
       "      <td>1.0</td>\n",
       "      <td>MTA3</td>\n",
       "      <td>9325.0</td>\n",
       "      <td>4/6/2010</td>\n",
       "      <td>C8A4</td>\n",
       "      <td>6500</td>\n",
       "      <td>CAT1</td>\n",
       "      <td>B</td>\n",
       "      <td>NaN</td>\n",
       "      <td>8712.0</td>\n",
       "      <td>...</td>\n",
       "      <td>5375.0</td>\n",
       "      <td>U3BX</td>\n",
       "      <td>SILVER</td>\n",
       "      <td>AZ</td>\n",
       "      <td>47653</td>\n",
       "      <td>2008</td>\n",
       "      <td>A</td>\n",
       "      <td>2</td>\n",
       "      <td>7086.0</td>\n",
       "      <td>train</td>\n",
       "    </tr>\n",
       "  </tbody>\n",
       "</table>\n",
       "<p>5 rows × 32 columns</p>\n",
       "</div>"
      ],
      "text/plain": [
       "       Junk InteriorsStyle  PriceIndex8   ListDate Material  PriceIndex9  \\\n",
       "51677   1.0           YBQJ      10934.0  8/18/2010     C8A4         6670   \n",
       "58520   1.0           BN7D       4203.0  3/18/2009     NYFD         3600   \n",
       "25963   1.0           2XWO      11511.0   6/8/2010     PRN0         6700   \n",
       "36662   1.0           DUFA      12354.0  12/1/2010     IKAF         7150   \n",
       "29298   1.0           MTA3       9325.0   4/6/2010     C8A4         6500   \n",
       "\n",
       "      Agency AreaIncomeType EnvRating  PriceIndex7  ...  PriceIndex5  \\\n",
       "51677   CAT1              B       NaN       9483.0  ...       6199.0   \n",
       "58520   CAT2              A       NaN       3388.0  ...       2674.0   \n",
       "25963   CAT2              B       NaN      10705.0  ...       6504.0   \n",
       "36662   CAT2              B       NaN      11119.0  ...       7787.0   \n",
       "29298   CAT1              B       NaN       8712.0  ...       5375.0   \n",
       "\n",
       "       SubModel  Facade  State NormalisedPopulation BuildYear  RegionType  \\\n",
       "51677      KT8F  SILVER     TX                72268      2006           A   \n",
       "58520      CULD     RED     VA                93157      2003           A   \n",
       "25963      8YTZ   BLACK     AZ                88598      2007           A   \n",
       "36662      XHI5    GREY     FL                91554      2008           A   \n",
       "29298      U3BX  SILVER     AZ                47653      2008           A   \n",
       "\n",
       "       PropertyAge PriceIndex2   data  \n",
       "51677            4      7881.0  train  \n",
       "58520            6      3766.0  train  \n",
       "25963            3      7390.0  train  \n",
       "36662            2      8858.0  train  \n",
       "29298            2      7086.0  train  \n",
       "\n",
       "[5 rows x 32 columns]"
      ]
     },
     "execution_count": 13,
     "metadata": {},
     "output_type": "execute_result"
    }
   ],
   "source": [
    "all_data.head()"
   ]
  },
  {
   "cell_type": "code",
   "execution_count": 14,
   "metadata": {},
   "outputs": [
    {
     "name": "stdout",
     "output_type": "stream",
     "text": [
      "Junk : 10948\n",
      "InteriorsStyle : 0\n",
      "PriceIndex8 : 487\n",
      "ListDate : 0\n",
      "Material : 0\n",
      "PriceIndex9 : 0\n",
      "Agency : 5\n",
      "AreaIncomeType : 14927\n",
      "EnvRating : 115696\n",
      "PriceIndex7 : 487\n",
      "ExpeditedListing : 0\n",
      "PriceIndex4 : 28\n",
      "PriceIndex1 : 28\n",
      "PriceIndex6 : 487\n",
      "PRIMEUNIT : 115696\n",
      "Channel : 0\n",
      "Zip : 0\n",
      "InsurancePremiumIndex : 0\n",
      "PlotType : 0\n",
      "Architecture : 0\n",
      "PriceIndex3 : 28\n",
      "Region : 9\n",
      "PriceIndex5 : 487\n",
      "SubModel : 0\n",
      "Facade : 8\n",
      "State : 0\n",
      "NormalisedPopulation : 0\n",
      "BuildYear : 0\n",
      "RegionType : 5\n",
      "PropertyAge : 0\n",
      "PriceIndex2 : 28\n",
      "data : 0\n"
     ]
    }
   ],
   "source": [
    "#Checking for null values\n",
    "for col in all_data.columns:\n",
    "    print(col,\":\", all_data[col].isnull().sum())"
   ]
  },
  {
   "cell_type": "markdown",
   "metadata": {},
   "source": [
    "####Treating Outliers"
   ]
  },
  {
   "cell_type": "code",
   "execution_count": 16,
   "metadata": {},
   "outputs": [
    {
     "data": {
      "text/plain": [
       "0    116884\n",
       "1      2930\n",
       "Name: ExpeditedListing, dtype: int64"
      ]
     },
     "execution_count": 16,
     "metadata": {},
     "output_type": "execute_result"
    }
   ],
   "source": [
    "all_data['ExpeditedListing'].value_counts()"
   ]
  },
  {
   "cell_type": "code",
   "execution_count": 17,
   "metadata": {},
   "outputs": [],
   "source": [
    "all_data.drop(['NormalisedPopulation','ExpeditedListing'], axis=1, inplace=True)"
   ]
  },
  {
   "cell_type": "code",
   "execution_count": 18,
   "metadata": {},
   "outputs": [
    {
     "data": {
      "text/html": [
       "<style  type=\"text/css\" >\n",
       "#T_83458945_eae1_11eb_9359_5c879c05c24brow0_col0,#T_83458945_eae1_11eb_9359_5c879c05c24brow1_col1,#T_83458945_eae1_11eb_9359_5c879c05c24brow2_col2,#T_83458945_eae1_11eb_9359_5c879c05c24brow3_col3,#T_83458945_eae1_11eb_9359_5c879c05c24brow4_col4,#T_83458945_eae1_11eb_9359_5c879c05c24brow5_col5,#T_83458945_eae1_11eb_9359_5c879c05c24brow6_col6,#T_83458945_eae1_11eb_9359_5c879c05c24brow7_col7,#T_83458945_eae1_11eb_9359_5c879c05c24brow8_col8,#T_83458945_eae1_11eb_9359_5c879c05c24brow9_col9,#T_83458945_eae1_11eb_9359_5c879c05c24brow10_col10,#T_83458945_eae1_11eb_9359_5c879c05c24brow11_col11,#T_83458945_eae1_11eb_9359_5c879c05c24brow12_col12,#T_83458945_eae1_11eb_9359_5c879c05c24brow13_col13{\n",
       "            background-color:  #008066;\n",
       "            color:  #f1f1f1;\n",
       "        }#T_83458945_eae1_11eb_9359_5c879c05c24brow0_col1{\n",
       "            background-color:  #c6e266;\n",
       "            color:  #000000;\n",
       "        }#T_83458945_eae1_11eb_9359_5c879c05c24brow0_col2{\n",
       "            background-color:  #dcee66;\n",
       "            color:  #000000;\n",
       "        }#T_83458945_eae1_11eb_9359_5c879c05c24brow0_col3,#T_83458945_eae1_11eb_9359_5c879c05c24brow0_col9,#T_83458945_eae1_11eb_9359_5c879c05c24brow3_col12{\n",
       "            background-color:  #c4e266;\n",
       "            color:  #000000;\n",
       "        }#T_83458945_eae1_11eb_9359_5c879c05c24brow0_col4{\n",
       "            background-color:  #c7e366;\n",
       "            color:  #000000;\n",
       "        }#T_83458945_eae1_11eb_9359_5c879c05c24brow0_col5,#T_83458945_eae1_11eb_9359_5c879c05c24brow8_col4{\n",
       "            background-color:  #bdde66;\n",
       "            color:  #000000;\n",
       "        }#T_83458945_eae1_11eb_9359_5c879c05c24brow0_col6{\n",
       "            background-color:  #bfdf66;\n",
       "            color:  #000000;\n",
       "        }#T_83458945_eae1_11eb_9359_5c879c05c24brow0_col7{\n",
       "            background-color:  #ebf566;\n",
       "            color:  #000000;\n",
       "        }#T_83458945_eae1_11eb_9359_5c879c05c24brow0_col8{\n",
       "            background-color:  #b3d966;\n",
       "            color:  #000000;\n",
       "        }#T_83458945_eae1_11eb_9359_5c879c05c24brow0_col10,#T_83458945_eae1_11eb_9359_5c879c05c24brow4_col12{\n",
       "            background-color:  #bcde66;\n",
       "            color:  #000000;\n",
       "        }#T_83458945_eae1_11eb_9359_5c879c05c24brow0_col11{\n",
       "            background-color:  #a1d066;\n",
       "            color:  #000000;\n",
       "        }#T_83458945_eae1_11eb_9359_5c879c05c24brow0_col12{\n",
       "            background-color:  #62b066;\n",
       "            color:  #000000;\n",
       "        }#T_83458945_eae1_11eb_9359_5c879c05c24brow0_col13,#T_83458945_eae1_11eb_9359_5c879c05c24brow9_col12{\n",
       "            background-color:  #c0e066;\n",
       "            color:  #000000;\n",
       "        }#T_83458945_eae1_11eb_9359_5c879c05c24brow1_col0,#T_83458945_eae1_11eb_9359_5c879c05c24brow13_col0{\n",
       "            background-color:  #eef666;\n",
       "            color:  #000000;\n",
       "        }#T_83458945_eae1_11eb_9359_5c879c05c24brow1_col2,#T_83458945_eae1_11eb_9359_5c879c05c24brow3_col2{\n",
       "            background-color:  #2b9566;\n",
       "            color:  #000000;\n",
       "        }#T_83458945_eae1_11eb_9359_5c879c05c24brow1_col3,#T_83458945_eae1_11eb_9359_5c879c05c24brow3_col1,#T_83458945_eae1_11eb_9359_5c879c05c24brow4_col9,#T_83458945_eae1_11eb_9359_5c879c05c24brow5_col13,#T_83458945_eae1_11eb_9359_5c879c05c24brow6_col10,#T_83458945_eae1_11eb_9359_5c879c05c24brow9_col4,#T_83458945_eae1_11eb_9359_5c879c05c24brow10_col6,#T_83458945_eae1_11eb_9359_5c879c05c24brow13_col5{\n",
       "            background-color:  #018066;\n",
       "            color:  #f1f1f1;\n",
       "        }#T_83458945_eae1_11eb_9359_5c879c05c24brow1_col4,#T_83458945_eae1_11eb_9359_5c879c05c24brow1_col9,#T_83458945_eae1_11eb_9359_5c879c05c24brow3_col4,#T_83458945_eae1_11eb_9359_5c879c05c24brow3_col6,#T_83458945_eae1_11eb_9359_5c879c05c24brow4_col3,#T_83458945_eae1_11eb_9359_5c879c05c24brow5_col4,#T_83458945_eae1_11eb_9359_5c879c05c24brow5_col9,#T_83458945_eae1_11eb_9359_5c879c05c24brow6_col3,#T_83458945_eae1_11eb_9359_5c879c05c24brow9_col13,#T_83458945_eae1_11eb_9359_5c879c05c24brow10_col1{\n",
       "            background-color:  #0e8666;\n",
       "            color:  #000000;\n",
       "        }#T_83458945_eae1_11eb_9359_5c879c05c24brow1_col5,#T_83458945_eae1_11eb_9359_5c879c05c24brow1_col13,#T_83458945_eae1_11eb_9359_5c879c05c24brow3_col5{\n",
       "            background-color:  #138966;\n",
       "            color:  #000000;\n",
       "        }#T_83458945_eae1_11eb_9359_5c879c05c24brow1_col6,#T_83458945_eae1_11eb_9359_5c879c05c24brow3_col9,#T_83458945_eae1_11eb_9359_5c879c05c24brow3_col10,#T_83458945_eae1_11eb_9359_5c879c05c24brow4_col13,#T_83458945_eae1_11eb_9359_5c879c05c24brow6_col1,#T_83458945_eae1_11eb_9359_5c879c05c24brow9_col3{\n",
       "            background-color:  #0c8666;\n",
       "            color:  #000000;\n",
       "        }#T_83458945_eae1_11eb_9359_5c879c05c24brow1_col7,#T_83458945_eae1_11eb_9359_5c879c05c24brow4_col7{\n",
       "            background-color:  #e6f266;\n",
       "            color:  #000000;\n",
       "        }#T_83458945_eae1_11eb_9359_5c879c05c24brow1_col8,#T_83458945_eae1_11eb_9359_5c879c05c24brow2_col8,#T_83458945_eae1_11eb_9359_5c879c05c24brow6_col8{\n",
       "            background-color:  #d1e866;\n",
       "            color:  #000000;\n",
       "        }#T_83458945_eae1_11eb_9359_5c879c05c24brow1_col10,#T_83458945_eae1_11eb_9359_5c879c05c24brow4_col1,#T_83458945_eae1_11eb_9359_5c879c05c24brow4_col5,#T_83458945_eae1_11eb_9359_5c879c05c24brow9_col1,#T_83458945_eae1_11eb_9359_5c879c05c24brow9_col5,#T_83458945_eae1_11eb_9359_5c879c05c24brow10_col3,#T_83458945_eae1_11eb_9359_5c879c05c24brow13_col4{\n",
       "            background-color:  #0d8666;\n",
       "            color:  #000000;\n",
       "        }#T_83458945_eae1_11eb_9359_5c879c05c24brow1_col11{\n",
       "            background-color:  #389c66;\n",
       "            color:  #000000;\n",
       "        }#T_83458945_eae1_11eb_9359_5c879c05c24brow1_col12{\n",
       "            background-color:  #c1e066;\n",
       "            color:  #000000;\n",
       "        }#T_83458945_eae1_11eb_9359_5c879c05c24brow2_col0{\n",
       "            background-color:  #edf666;\n",
       "            color:  #000000;\n",
       "        }#T_83458945_eae1_11eb_9359_5c879c05c24brow2_col1,#T_83458945_eae1_11eb_9359_5c879c05c24brow6_col2,#T_83458945_eae1_11eb_9359_5c879c05c24brow13_col2{\n",
       "            background-color:  #279366;\n",
       "            color:  #000000;\n",
       "        }#T_83458945_eae1_11eb_9359_5c879c05c24brow2_col3,#T_83458945_eae1_11eb_9359_5c879c05c24brow10_col2{\n",
       "            background-color:  #269266;\n",
       "            color:  #000000;\n",
       "        }#T_83458945_eae1_11eb_9359_5c879c05c24brow2_col4{\n",
       "            background-color:  #2a9466;\n",
       "            color:  #000000;\n",
       "        }#T_83458945_eae1_11eb_9359_5c879c05c24brow2_col5{\n",
       "            background-color:  #1f8f66;\n",
       "            color:  #000000;\n",
       "        }#T_83458945_eae1_11eb_9359_5c879c05c24brow2_col6,#T_83458945_eae1_11eb_9359_5c879c05c24brow2_col13{\n",
       "            background-color:  #219066;\n",
       "            color:  #000000;\n",
       "        }#T_83458945_eae1_11eb_9359_5c879c05c24brow2_col7{\n",
       "            background-color:  #e8f466;\n",
       "            color:  #000000;\n",
       "        }#T_83458945_eae1_11eb_9359_5c879c05c24brow2_col9{\n",
       "            background-color:  #299466;\n",
       "            color:  #000000;\n",
       "        }#T_83458945_eae1_11eb_9359_5c879c05c24brow2_col10{\n",
       "            background-color:  #209066;\n",
       "            color:  #000000;\n",
       "        }#T_83458945_eae1_11eb_9359_5c879c05c24brow2_col11{\n",
       "            background-color:  #53a966;\n",
       "            color:  #000000;\n",
       "        }#T_83458945_eae1_11eb_9359_5c879c05c24brow2_col12{\n",
       "            background-color:  #add666;\n",
       "            color:  #000000;\n",
       "        }#T_83458945_eae1_11eb_9359_5c879c05c24brow3_col0,#T_83458945_eae1_11eb_9359_5c879c05c24brow6_col0{\n",
       "            background-color:  #eff766;\n",
       "            color:  #000000;\n",
       "        }#T_83458945_eae1_11eb_9359_5c879c05c24brow3_col7,#T_83458945_eae1_11eb_9359_5c879c05c24brow9_col7{\n",
       "            background-color:  #e5f266;\n",
       "            color:  #000000;\n",
       "        }#T_83458945_eae1_11eb_9359_5c879c05c24brow3_col8{\n",
       "            background-color:  #d6eb66;\n",
       "            color:  #000000;\n",
       "        }#T_83458945_eae1_11eb_9359_5c879c05c24brow3_col11{\n",
       "            background-color:  #349a66;\n",
       "            color:  #000000;\n",
       "        }#T_83458945_eae1_11eb_9359_5c879c05c24brow3_col13,#T_83458945_eae1_11eb_9359_5c879c05c24brow4_col6,#T_83458945_eae1_11eb_9359_5c879c05c24brow9_col10,#T_83458945_eae1_11eb_9359_5c879c05c24brow13_col3{\n",
       "            background-color:  #158a66;\n",
       "            color:  #000000;\n",
       "        }#T_83458945_eae1_11eb_9359_5c879c05c24brow4_col0{\n",
       "            background-color:  #e9f466;\n",
       "            color:  #000000;\n",
       "        }#T_83458945_eae1_11eb_9359_5c879c05c24brow4_col2,#T_83458945_eae1_11eb_9359_5c879c05c24brow9_col2{\n",
       "            background-color:  #2e9666;\n",
       "            color:  #000000;\n",
       "        }#T_83458945_eae1_11eb_9359_5c879c05c24brow4_col8,#T_83458945_eae1_11eb_9359_5c879c05c24brow13_col8{\n",
       "            background-color:  #d0e866;\n",
       "            color:  #000000;\n",
       "        }#T_83458945_eae1_11eb_9359_5c879c05c24brow4_col10,#T_83458945_eae1_11eb_9359_5c879c05c24brow9_col6{\n",
       "            background-color:  #168b66;\n",
       "            color:  #000000;\n",
       "        }#T_83458945_eae1_11eb_9359_5c879c05c24brow4_col11{\n",
       "            background-color:  #3a9c66;\n",
       "            color:  #000000;\n",
       "        }#T_83458945_eae1_11eb_9359_5c879c05c24brow5_col0,#T_83458945_eae1_11eb_9359_5c879c05c24brow10_col0{\n",
       "            background-color:  #f0f866;\n",
       "            color:  #000000;\n",
       "        }#T_83458945_eae1_11eb_9359_5c879c05c24brow5_col1,#T_83458945_eae1_11eb_9359_5c879c05c24brow5_col3,#T_83458945_eae1_11eb_9359_5c879c05c24brow13_col1{\n",
       "            background-color:  #148a66;\n",
       "            color:  #000000;\n",
       "        }#T_83458945_eae1_11eb_9359_5c879c05c24brow5_col2{\n",
       "            background-color:  #259266;\n",
       "            color:  #000000;\n",
       "        }#T_83458945_eae1_11eb_9359_5c879c05c24brow5_col6,#T_83458945_eae1_11eb_9359_5c879c05c24brow6_col5,#T_83458945_eae1_11eb_9359_5c879c05c24brow6_col13,#T_83458945_eae1_11eb_9359_5c879c05c24brow13_col6{\n",
       "            background-color:  #098466;\n",
       "            color:  #f1f1f1;\n",
       "        }#T_83458945_eae1_11eb_9359_5c879c05c24brow5_col7,#T_83458945_eae1_11eb_9359_5c879c05c24brow10_col7{\n",
       "            background-color:  #e2f066;\n",
       "            color:  #000000;\n",
       "        }#T_83458945_eae1_11eb_9359_5c879c05c24brow5_col8,#T_83458945_eae1_11eb_9359_5c879c05c24brow9_col8,#T_83458945_eae1_11eb_9359_5c879c05c24brow10_col8{\n",
       "            background-color:  #d5ea66;\n",
       "            color:  #000000;\n",
       "        }#T_83458945_eae1_11eb_9359_5c879c05c24brow5_col10,#T_83458945_eae1_11eb_9359_5c879c05c24brow10_col5{\n",
       "            background-color:  #088466;\n",
       "            color:  #f1f1f1;\n",
       "        }#T_83458945_eae1_11eb_9359_5c879c05c24brow5_col11,#T_83458945_eae1_11eb_9359_5c879c05c24brow9_col11{\n",
       "            background-color:  #369b66;\n",
       "            color:  #000000;\n",
       "        }#T_83458945_eae1_11eb_9359_5c879c05c24brow5_col12{\n",
       "            background-color:  #cde666;\n",
       "            color:  #000000;\n",
       "        }#T_83458945_eae1_11eb_9359_5c879c05c24brow6_col4,#T_83458945_eae1_11eb_9359_5c879c05c24brow6_col9,#T_83458945_eae1_11eb_9359_5c879c05c24brow10_col9{\n",
       "            background-color:  #178b66;\n",
       "            color:  #000000;\n",
       "        }#T_83458945_eae1_11eb_9359_5c879c05c24brow6_col7,#T_83458945_eae1_11eb_9359_5c879c05c24brow13_col7{\n",
       "            background-color:  #e3f166;\n",
       "            color:  #000000;\n",
       "        }#T_83458945_eae1_11eb_9359_5c879c05c24brow6_col11{\n",
       "            background-color:  #399c66;\n",
       "            color:  #000000;\n",
       "        }#T_83458945_eae1_11eb_9359_5c879c05c24brow6_col12,#T_83458945_eae1_11eb_9359_5c879c05c24brow7_col8{\n",
       "            background-color:  #c9e466;\n",
       "            color:  #000000;\n",
       "        }#T_83458945_eae1_11eb_9359_5c879c05c24brow7_col0{\n",
       "            background-color:  #cce666;\n",
       "            color:  #000000;\n",
       "        }#T_83458945_eae1_11eb_9359_5c879c05c24brow7_col1,#T_83458945_eae1_11eb_9359_5c879c05c24brow7_col9{\n",
       "            background-color:  #a7d366;\n",
       "            color:  #000000;\n",
       "        }#T_83458945_eae1_11eb_9359_5c879c05c24brow7_col2{\n",
       "            background-color:  #bbdd66;\n",
       "            color:  #000000;\n",
       "        }#T_83458945_eae1_11eb_9359_5c879c05c24brow7_col3{\n",
       "            background-color:  #a3d166;\n",
       "            color:  #000000;\n",
       "        }#T_83458945_eae1_11eb_9359_5c879c05c24brow7_col4,#T_83458945_eae1_11eb_9359_5c879c05c24brow8_col11{\n",
       "            background-color:  #abd566;\n",
       "            color:  #000000;\n",
       "        }#T_83458945_eae1_11eb_9359_5c879c05c24brow7_col5{\n",
       "            background-color:  #9bcd66;\n",
       "            color:  #000000;\n",
       "        }#T_83458945_eae1_11eb_9359_5c879c05c24brow7_col6{\n",
       "            background-color:  #9ece66;\n",
       "            color:  #000000;\n",
       "        }#T_83458945_eae1_11eb_9359_5c879c05c24brow7_col10{\n",
       "            background-color:  #9acc66;\n",
       "            color:  #000000;\n",
       "        }#T_83458945_eae1_11eb_9359_5c879c05c24brow7_col11,#T_83458945_eae1_11eb_9359_5c879c05c24brow11_col2{\n",
       "            background-color:  #7abc66;\n",
       "            color:  #000000;\n",
       "        }#T_83458945_eae1_11eb_9359_5c879c05c24brow7_col12{\n",
       "            background-color:  #8cc666;\n",
       "            color:  #000000;\n",
       "        }#T_83458945_eae1_11eb_9359_5c879c05c24brow7_col13{\n",
       "            background-color:  #9fcf66;\n",
       "            color:  #000000;\n",
       "        }#T_83458945_eae1_11eb_9359_5c879c05c24brow8_col0,#T_83458945_eae1_11eb_9359_5c879c05c24brow8_col9{\n",
       "            background-color:  #bede66;\n",
       "            color:  #000000;\n",
       "        }#T_83458945_eae1_11eb_9359_5c879c05c24brow8_col1,#T_83458945_eae1_11eb_9359_5c879c05c24brow8_col3{\n",
       "            background-color:  #badc66;\n",
       "            color:  #000000;\n",
       "        }#T_83458945_eae1_11eb_9359_5c879c05c24brow8_col2,#T_83458945_eae1_11eb_9359_5c879c05c24brow10_col12{\n",
       "            background-color:  #cee666;\n",
       "            color:  #000000;\n",
       "        }#T_83458945_eae1_11eb_9359_5c879c05c24brow8_col5,#T_83458945_eae1_11eb_9359_5c879c05c24brow8_col13{\n",
       "            background-color:  #b2d866;\n",
       "            color:  #000000;\n",
       "        }#T_83458945_eae1_11eb_9359_5c879c05c24brow8_col6,#T_83458945_eae1_11eb_9359_5c879c05c24brow8_col10{\n",
       "            background-color:  #b1d866;\n",
       "            color:  #000000;\n",
       "        }#T_83458945_eae1_11eb_9359_5c879c05c24brow8_col7{\n",
       "            background-color:  #f6fa66;\n",
       "            color:  #000000;\n",
       "        }#T_83458945_eae1_11eb_9359_5c879c05c24brow8_col12{\n",
       "            background-color:  #5bad66;\n",
       "            color:  #000000;\n",
       "        }#T_83458945_eae1_11eb_9359_5c879c05c24brow9_col0{\n",
       "            background-color:  #eaf466;\n",
       "            color:  #000000;\n",
       "        }#T_83458945_eae1_11eb_9359_5c879c05c24brow10_col4{\n",
       "            background-color:  #188c66;\n",
       "            color:  #000000;\n",
       "        }#T_83458945_eae1_11eb_9359_5c879c05c24brow10_col11{\n",
       "            background-color:  #359a66;\n",
       "            color:  #000000;\n",
       "        }#T_83458945_eae1_11eb_9359_5c879c05c24brow10_col13,#T_83458945_eae1_11eb_9359_5c879c05c24brow13_col10{\n",
       "            background-color:  #0a8466;\n",
       "            color:  #f1f1f1;\n",
       "        }#T_83458945_eae1_11eb_9359_5c879c05c24brow11_col0,#T_83458945_eae1_11eb_9359_5c879c05c24brow11_col8,#T_83458945_eae1_11eb_9359_5c879c05c24brow11_col12,#T_83458945_eae1_11eb_9359_5c879c05c24brow12_col1,#T_83458945_eae1_11eb_9359_5c879c05c24brow12_col2,#T_83458945_eae1_11eb_9359_5c879c05c24brow12_col3,#T_83458945_eae1_11eb_9359_5c879c05c24brow12_col4,#T_83458945_eae1_11eb_9359_5c879c05c24brow12_col5,#T_83458945_eae1_11eb_9359_5c879c05c24brow12_col6,#T_83458945_eae1_11eb_9359_5c879c05c24brow12_col7,#T_83458945_eae1_11eb_9359_5c879c05c24brow12_col9,#T_83458945_eae1_11eb_9359_5c879c05c24brow12_col10,#T_83458945_eae1_11eb_9359_5c879c05c24brow12_col11,#T_83458945_eae1_11eb_9359_5c879c05c24brow12_col13{\n",
       "            background-color:  #ffff66;\n",
       "            color:  #000000;\n",
       "        }#T_83458945_eae1_11eb_9359_5c879c05c24brow11_col1{\n",
       "            background-color:  #4aa466;\n",
       "            color:  #000000;\n",
       "        }#T_83458945_eae1_11eb_9359_5c879c05c24brow11_col3,#T_83458945_eae1_11eb_9359_5c879c05c24brow11_col5{\n",
       "            background-color:  #43a166;\n",
       "            color:  #000000;\n",
       "        }#T_83458945_eae1_11eb_9359_5c879c05c24brow11_col4{\n",
       "            background-color:  #4fa766;\n",
       "            color:  #000000;\n",
       "        }#T_83458945_eae1_11eb_9359_5c879c05c24brow11_col6{\n",
       "            background-color:  #49a466;\n",
       "            color:  #000000;\n",
       "        }#T_83458945_eae1_11eb_9359_5c879c05c24brow11_col7{\n",
       "            background-color:  #dfef66;\n",
       "            color:  #000000;\n",
       "        }#T_83458945_eae1_11eb_9359_5c879c05c24brow11_col9{\n",
       "            background-color:  #48a366;\n",
       "            color:  #000000;\n",
       "        }#T_83458945_eae1_11eb_9359_5c879c05c24brow11_col10{\n",
       "            background-color:  #41a066;\n",
       "            color:  #000000;\n",
       "        }#T_83458945_eae1_11eb_9359_5c879c05c24brow11_col13{\n",
       "            background-color:  #4ba566;\n",
       "            color:  #000000;\n",
       "        }#T_83458945_eae1_11eb_9359_5c879c05c24brow12_col0{\n",
       "            background-color:  #9cce66;\n",
       "            color:  #000000;\n",
       "        }#T_83458945_eae1_11eb_9359_5c879c05c24brow12_col8{\n",
       "            background-color:  #88c366;\n",
       "            color:  #000000;\n",
       "        }#T_83458945_eae1_11eb_9359_5c879c05c24brow13_col9{\n",
       "            background-color:  #0f8766;\n",
       "            color:  #000000;\n",
       "        }#T_83458945_eae1_11eb_9359_5c879c05c24brow13_col11{\n",
       "            background-color:  #3b9d66;\n",
       "            color:  #000000;\n",
       "        }#T_83458945_eae1_11eb_9359_5c879c05c24brow13_col12{\n",
       "            background-color:  #c8e366;\n",
       "            color:  #000000;\n",
       "        }</style><table id=\"T_83458945_eae1_11eb_9359_5c879c05c24b\" ><thead>    <tr>        <th class=\"blank level0\" ></th>        <th class=\"col_heading level0 col0\" >Junk</th>        <th class=\"col_heading level0 col1\" >PriceIndex8</th>        <th class=\"col_heading level0 col2\" >PriceIndex9</th>        <th class=\"col_heading level0 col3\" >PriceIndex7</th>        <th class=\"col_heading level0 col4\" >PriceIndex4</th>        <th class=\"col_heading level0 col5\" >PriceIndex1</th>        <th class=\"col_heading level0 col6\" >PriceIndex6</th>        <th class=\"col_heading level0 col7\" >Zip</th>        <th class=\"col_heading level0 col8\" >InsurancePremiumIndex</th>        <th class=\"col_heading level0 col9\" >PriceIndex3</th>        <th class=\"col_heading level0 col10\" >PriceIndex5</th>        <th class=\"col_heading level0 col11\" >BuildYear</th>        <th class=\"col_heading level0 col12\" >PropertyAge</th>        <th class=\"col_heading level0 col13\" >PriceIndex2</th>    </tr></thead><tbody>\n",
       "                <tr>\n",
       "                        <th id=\"T_83458945_eae1_11eb_9359_5c879c05c24blevel0_row0\" class=\"row_heading level0 row0\" >Junk</th>\n",
       "                        <td id=\"T_83458945_eae1_11eb_9359_5c879c05c24brow0_col0\" class=\"data row0 col0\" >1.000000</td>\n",
       "                        <td id=\"T_83458945_eae1_11eb_9359_5c879c05c24brow0_col1\" class=\"data row0 col1\" >-0.149187</td>\n",
       "                        <td id=\"T_83458945_eae1_11eb_9359_5c879c05c24brow0_col2\" class=\"data row0 col2\" >-0.143988</td>\n",
       "                        <td id=\"T_83458945_eae1_11eb_9359_5c879c05c24brow0_col3\" class=\"data row0 col3\" >-0.155134</td>\n",
       "                        <td id=\"T_83458945_eae1_11eb_9359_5c879c05c24brow0_col4\" class=\"data row0 col4\" >-0.125831</td>\n",
       "                        <td id=\"T_83458945_eae1_11eb_9359_5c879c05c24brow0_col5\" class=\"data row0 col5\" >-0.160758</td>\n",
       "                        <td id=\"T_83458945_eae1_11eb_9359_5c879c05c24brow0_col6\" class=\"data row0 col6\" >-0.154242</td>\n",
       "                        <td id=\"T_83458945_eae1_11eb_9359_5c879c05c24brow0_col7\" class=\"data row0 col7\" >0.012991</td>\n",
       "                        <td id=\"T_83458945_eae1_11eb_9359_5c879c05c24brow0_col8\" class=\"data row0 col8\" >0.079996</td>\n",
       "                        <td id=\"T_83458945_eae1_11eb_9359_5c879c05c24brow0_col9\" class=\"data row0 col9\" >-0.131712</td>\n",
       "                        <td id=\"T_83458945_eae1_11eb_9359_5c879c05c24brow0_col10\" class=\"data row0 col10\" >-0.161938</td>\n",
       "                        <td id=\"T_83458945_eae1_11eb_9359_5c879c05c24brow0_col11\" class=\"data row0 col11\" >-0.234671</td>\n",
       "                        <td id=\"T_83458945_eae1_11eb_9359_5c879c05c24brow0_col12\" class=\"data row0 col12\" >0.245161</td>\n",
       "                        <td id=\"T_83458945_eae1_11eb_9359_5c879c05c24brow0_col13\" class=\"data row0 col13\" >-0.151302</td>\n",
       "            </tr>\n",
       "            <tr>\n",
       "                        <th id=\"T_83458945_eae1_11eb_9359_5c879c05c24blevel0_row1\" class=\"row_heading level0 row1\" >PriceIndex8</th>\n",
       "                        <td id=\"T_83458945_eae1_11eb_9359_5c879c05c24brow1_col0\" class=\"data row1 col0\" >-0.149187</td>\n",
       "                        <td id=\"T_83458945_eae1_11eb_9359_5c879c05c24brow1_col1\" class=\"data row1 col1\" >1.000000</td>\n",
       "                        <td id=\"T_83458945_eae1_11eb_9359_5c879c05c24brow1_col2\" class=\"data row1 col2\" >0.772534</td>\n",
       "                        <td id=\"T_83458945_eae1_11eb_9359_5c879c05c24brow1_col3\" class=\"data row1 col3\" >0.990807</td>\n",
       "                        <td id=\"T_83458945_eae1_11eb_9359_5c879c05c24brow1_col4\" class=\"data row1 col4\" >0.919139</td>\n",
       "                        <td id=\"T_83458945_eae1_11eb_9359_5c879c05c24brow1_col5\" class=\"data row1 col5\" >0.881499</td>\n",
       "                        <td id=\"T_83458945_eae1_11eb_9359_5c879c05c24brow1_col6\" class=\"data row1 col6\" >0.926699</td>\n",
       "                        <td id=\"T_83458945_eae1_11eb_9359_5c879c05c24brow1_col7\" class=\"data row1 col7\" >0.033195</td>\n",
       "                        <td id=\"T_83458945_eae1_11eb_9359_5c879c05c24brow1_col8\" class=\"data row1 col8\" >-0.075452</td>\n",
       "                        <td id=\"T_83458945_eae1_11eb_9359_5c879c05c24brow1_col9\" class=\"data row1 col9\" >0.919177</td>\n",
       "                        <td id=\"T_83458945_eae1_11eb_9359_5c879c05c24brow1_col10\" class=\"data row1 col10\" >0.918674</td>\n",
       "                        <td id=\"T_83458945_eae1_11eb_9359_5c879c05c24brow1_col11\" class=\"data row1 col11\" >0.567140</td>\n",
       "                        <td id=\"T_83458945_eae1_11eb_9359_5c879c05c24brow1_col12\" class=\"data row1 col12\" >-0.478993</td>\n",
       "                        <td id=\"T_83458945_eae1_11eb_9359_5c879c05c24brow1_col13\" class=\"data row1 col13\" >0.881624</td>\n",
       "            </tr>\n",
       "            <tr>\n",
       "                        <th id=\"T_83458945_eae1_11eb_9359_5c879c05c24blevel0_row2\" class=\"row_heading level0 row2\" >PriceIndex9</th>\n",
       "                        <td id=\"T_83458945_eae1_11eb_9359_5c879c05c24brow2_col0\" class=\"data row2 col0\" >-0.143988</td>\n",
       "                        <td id=\"T_83458945_eae1_11eb_9359_5c879c05c24brow2_col1\" class=\"data row2 col1\" >0.772534</td>\n",
       "                        <td id=\"T_83458945_eae1_11eb_9359_5c879c05c24brow2_col2\" class=\"data row2 col2\" >1.000000</td>\n",
       "                        <td id=\"T_83458945_eae1_11eb_9359_5c879c05c24brow2_col3\" class=\"data row2 col3\" >0.772682</td>\n",
       "                        <td id=\"T_83458945_eae1_11eb_9359_5c879c05c24brow2_col4\" class=\"data row2 col4\" >0.758664</td>\n",
       "                        <td id=\"T_83458945_eae1_11eb_9359_5c879c05c24brow2_col5\" class=\"data row2 col5\" >0.805320</td>\n",
       "                        <td id=\"T_83458945_eae1_11eb_9359_5c879c05c24brow2_col6\" class=\"data row2 col6\" >0.796635</td>\n",
       "                        <td id=\"T_83458945_eae1_11eb_9359_5c879c05c24brow2_col7\" class=\"data row2 col7\" >0.024110</td>\n",
       "                        <td id=\"T_83458945_eae1_11eb_9359_5c879c05c24brow2_col8\" class=\"data row2 col8\" >-0.073979</td>\n",
       "                        <td id=\"T_83458945_eae1_11eb_9359_5c879c05c24brow2_col9\" class=\"data row2 col9\" >0.760367</td>\n",
       "                        <td id=\"T_83458945_eae1_11eb_9359_5c879c05c24brow2_col10\" class=\"data row2 col10\" >0.801270</td>\n",
       "                        <td id=\"T_83458945_eae1_11eb_9359_5c879c05c24brow2_col11\" class=\"data row2 col11\" >0.364201</td>\n",
       "                        <td id=\"T_83458945_eae1_11eb_9359_5c879c05c24brow2_col12\" class=\"data row2 col12\" >-0.329694</td>\n",
       "                        <td id=\"T_83458945_eae1_11eb_9359_5c879c05c24brow2_col13\" class=\"data row2 col13\" >0.796794</td>\n",
       "            </tr>\n",
       "            <tr>\n",
       "                        <th id=\"T_83458945_eae1_11eb_9359_5c879c05c24blevel0_row3\" class=\"row_heading level0 row3\" >PriceIndex7</th>\n",
       "                        <td id=\"T_83458945_eae1_11eb_9359_5c879c05c24brow3_col0\" class=\"data row3 col0\" >-0.155134</td>\n",
       "                        <td id=\"T_83458945_eae1_11eb_9359_5c879c05c24brow3_col1\" class=\"data row3 col1\" >0.990807</td>\n",
       "                        <td id=\"T_83458945_eae1_11eb_9359_5c879c05c24brow3_col2\" class=\"data row3 col2\" >0.772682</td>\n",
       "                        <td id=\"T_83458945_eae1_11eb_9359_5c879c05c24brow3_col3\" class=\"data row3 col3\" >1.000000</td>\n",
       "                        <td id=\"T_83458945_eae1_11eb_9359_5c879c05c24brow3_col4\" class=\"data row3 col4\" >0.915967</td>\n",
       "                        <td id=\"T_83458945_eae1_11eb_9359_5c879c05c24brow3_col5\" class=\"data row3 col5\" >0.882075</td>\n",
       "                        <td id=\"T_83458945_eae1_11eb_9359_5c879c05c24brow3_col6\" class=\"data row3 col6\" >0.915140</td>\n",
       "                        <td id=\"T_83458945_eae1_11eb_9359_5c879c05c24brow3_col7\" class=\"data row3 col7\" >0.037126</td>\n",
       "                        <td id=\"T_83458945_eae1_11eb_9359_5c879c05c24brow3_col8\" class=\"data row3 col8\" >-0.098880</td>\n",
       "                        <td id=\"T_83458945_eae1_11eb_9359_5c879c05c24brow3_col9\" class=\"data row3 col9\" >0.925772</td>\n",
       "                        <td id=\"T_83458945_eae1_11eb_9359_5c879c05c24brow3_col10\" class=\"data row3 col10\" >0.920760</td>\n",
       "                        <td id=\"T_83458945_eae1_11eb_9359_5c879c05c24brow3_col11\" class=\"data row3 col11\" >0.601157</td>\n",
       "                        <td id=\"T_83458945_eae1_11eb_9359_5c879c05c24brow3_col12\" class=\"data row3 col12\" >-0.507934</td>\n",
       "                        <td id=\"T_83458945_eae1_11eb_9359_5c879c05c24brow3_col13\" class=\"data row3 col13\" >0.872410</td>\n",
       "            </tr>\n",
       "            <tr>\n",
       "                        <th id=\"T_83458945_eae1_11eb_9359_5c879c05c24blevel0_row4\" class=\"row_heading level0 row4\" >PriceIndex4</th>\n",
       "                        <td id=\"T_83458945_eae1_11eb_9359_5c879c05c24brow4_col0\" class=\"data row4 col0\" >-0.125831</td>\n",
       "                        <td id=\"T_83458945_eae1_11eb_9359_5c879c05c24brow4_col1\" class=\"data row4 col1\" >0.919139</td>\n",
       "                        <td id=\"T_83458945_eae1_11eb_9359_5c879c05c24brow4_col2\" class=\"data row4 col2\" >0.758664</td>\n",
       "                        <td id=\"T_83458945_eae1_11eb_9359_5c879c05c24brow4_col3\" class=\"data row4 col3\" >0.915967</td>\n",
       "                        <td id=\"T_83458945_eae1_11eb_9359_5c879c05c24brow4_col4\" class=\"data row4 col4\" >1.000000</td>\n",
       "                        <td id=\"T_83458945_eae1_11eb_9359_5c879c05c24brow4_col5\" class=\"data row4 col5\" >0.916885</td>\n",
       "                        <td id=\"T_83458945_eae1_11eb_9359_5c879c05c24brow4_col6\" class=\"data row4 col6\" >0.869246</td>\n",
       "                        <td id=\"T_83458945_eae1_11eb_9359_5c879c05c24brow4_col7\" class=\"data row4 col7\" >0.033255</td>\n",
       "                        <td id=\"T_83458945_eae1_11eb_9359_5c879c05c24brow4_col8\" class=\"data row4 col8\" >-0.072101</td>\n",
       "                        <td id=\"T_83458945_eae1_11eb_9359_5c879c05c24brow4_col9\" class=\"data row4 col9\" >0.991199</td>\n",
       "                        <td id=\"T_83458945_eae1_11eb_9359_5c879c05c24brow4_col10\" class=\"data row4 col10\" >0.862432</td>\n",
       "                        <td id=\"T_83458945_eae1_11eb_9359_5c879c05c24brow4_col11\" class=\"data row4 col11\" >0.550196</td>\n",
       "                        <td id=\"T_83458945_eae1_11eb_9359_5c879c05c24brow4_col12\" class=\"data row4 col12\" >-0.444858</td>\n",
       "                        <td id=\"T_83458945_eae1_11eb_9359_5c879c05c24brow4_col13\" class=\"data row4 col13\" >0.924054</td>\n",
       "            </tr>\n",
       "            <tr>\n",
       "                        <th id=\"T_83458945_eae1_11eb_9359_5c879c05c24blevel0_row5\" class=\"row_heading level0 row5\" >PriceIndex1</th>\n",
       "                        <td id=\"T_83458945_eae1_11eb_9359_5c879c05c24brow5_col0\" class=\"data row5 col0\" >-0.160758</td>\n",
       "                        <td id=\"T_83458945_eae1_11eb_9359_5c879c05c24brow5_col1\" class=\"data row5 col1\" >0.881499</td>\n",
       "                        <td id=\"T_83458945_eae1_11eb_9359_5c879c05c24brow5_col2\" class=\"data row5 col2\" >0.805320</td>\n",
       "                        <td id=\"T_83458945_eae1_11eb_9359_5c879c05c24brow5_col3\" class=\"data row5 col3\" >0.882075</td>\n",
       "                        <td id=\"T_83458945_eae1_11eb_9359_5c879c05c24brow5_col4\" class=\"data row5 col4\" >0.916885</td>\n",
       "                        <td id=\"T_83458945_eae1_11eb_9359_5c879c05c24brow5_col5\" class=\"data row5 col5\" >1.000000</td>\n",
       "                        <td id=\"T_83458945_eae1_11eb_9359_5c879c05c24brow5_col6\" class=\"data row5 col6\" >0.942607</td>\n",
       "                        <td id=\"T_83458945_eae1_11eb_9359_5c879c05c24brow5_col7\" class=\"data row5 col7\" >0.048967</td>\n",
       "                        <td id=\"T_83458945_eae1_11eb_9359_5c879c05c24brow5_col8\" class=\"data row5 col8\" >-0.094452</td>\n",
       "                        <td id=\"T_83458945_eae1_11eb_9359_5c879c05c24brow5_col9\" class=\"data row5 col9\" >0.917086</td>\n",
       "                        <td id=\"T_83458945_eae1_11eb_9359_5c879c05c24brow5_col10\" class=\"data row5 col10\" >0.948156</td>\n",
       "                        <td id=\"T_83458945_eae1_11eb_9359_5c879c05c24brow5_col11\" class=\"data row5 col11\" >0.585388</td>\n",
       "                        <td id=\"T_83458945_eae1_11eb_9359_5c879c05c24brow5_col12\" class=\"data row5 col12\" >-0.570535</td>\n",
       "                        <td id=\"T_83458945_eae1_11eb_9359_5c879c05c24brow5_col13\" class=\"data row5 col13\" >0.991720</td>\n",
       "            </tr>\n",
       "            <tr>\n",
       "                        <th id=\"T_83458945_eae1_11eb_9359_5c879c05c24blevel0_row6\" class=\"row_heading level0 row6\" >PriceIndex6</th>\n",
       "                        <td id=\"T_83458945_eae1_11eb_9359_5c879c05c24brow6_col0\" class=\"data row6 col0\" >-0.154242</td>\n",
       "                        <td id=\"T_83458945_eae1_11eb_9359_5c879c05c24brow6_col1\" class=\"data row6 col1\" >0.926699</td>\n",
       "                        <td id=\"T_83458945_eae1_11eb_9359_5c879c05c24brow6_col2\" class=\"data row6 col2\" >0.796635</td>\n",
       "                        <td id=\"T_83458945_eae1_11eb_9359_5c879c05c24brow6_col3\" class=\"data row6 col3\" >0.915140</td>\n",
       "                        <td id=\"T_83458945_eae1_11eb_9359_5c879c05c24brow6_col4\" class=\"data row6 col4\" >0.869246</td>\n",
       "                        <td id=\"T_83458945_eae1_11eb_9359_5c879c05c24brow6_col5\" class=\"data row6 col5\" >0.942607</td>\n",
       "                        <td id=\"T_83458945_eae1_11eb_9359_5c879c05c24brow6_col6\" class=\"data row6 col6\" >1.000000</td>\n",
       "                        <td id=\"T_83458945_eae1_11eb_9359_5c879c05c24brow6_col7\" class=\"data row6 col7\" >0.044129</td>\n",
       "                        <td id=\"T_83458945_eae1_11eb_9359_5c879c05c24brow6_col8\" class=\"data row6 col8\" >-0.072254</td>\n",
       "                        <td id=\"T_83458945_eae1_11eb_9359_5c879c05c24brow6_col9\" class=\"data row6 col9\" >0.863794</td>\n",
       "                        <td id=\"T_83458945_eae1_11eb_9359_5c879c05c24brow6_col10\" class=\"data row6 col10\" >0.991598</td>\n",
       "                        <td id=\"T_83458945_eae1_11eb_9359_5c879c05c24brow6_col11\" class=\"data row6 col11\" >0.559013</td>\n",
       "                        <td id=\"T_83458945_eae1_11eb_9359_5c879c05c24brow6_col12\" class=\"data row6 col12\" >-0.543439</td>\n",
       "                        <td id=\"T_83458945_eae1_11eb_9359_5c879c05c24brow6_col13\" class=\"data row6 col13\" >0.942664</td>\n",
       "            </tr>\n",
       "            <tr>\n",
       "                        <th id=\"T_83458945_eae1_11eb_9359_5c879c05c24blevel0_row7\" class=\"row_heading level0 row7\" >Zip</th>\n",
       "                        <td id=\"T_83458945_eae1_11eb_9359_5c879c05c24brow7_col0\" class=\"data row7 col0\" >0.012991</td>\n",
       "                        <td id=\"T_83458945_eae1_11eb_9359_5c879c05c24brow7_col1\" class=\"data row7 col1\" >0.033195</td>\n",
       "                        <td id=\"T_83458945_eae1_11eb_9359_5c879c05c24brow7_col2\" class=\"data row7 col2\" >0.024110</td>\n",
       "                        <td id=\"T_83458945_eae1_11eb_9359_5c879c05c24brow7_col3\" class=\"data row7 col3\" >0.037126</td>\n",
       "                        <td id=\"T_83458945_eae1_11eb_9359_5c879c05c24brow7_col4\" class=\"data row7 col4\" >0.033255</td>\n",
       "                        <td id=\"T_83458945_eae1_11eb_9359_5c879c05c24brow7_col5\" class=\"data row7 col5\" >0.048967</td>\n",
       "                        <td id=\"T_83458945_eae1_11eb_9359_5c879c05c24brow7_col6\" class=\"data row7 col6\" >0.044129</td>\n",
       "                        <td id=\"T_83458945_eae1_11eb_9359_5c879c05c24brow7_col7\" class=\"data row7 col7\" >1.000000</td>\n",
       "                        <td id=\"T_83458945_eae1_11eb_9359_5c879c05c24brow7_col8\" class=\"data row7 col8\" >-0.035154</td>\n",
       "                        <td id=\"T_83458945_eae1_11eb_9359_5c879c05c24brow7_col9\" class=\"data row7 col9\" >0.036223</td>\n",
       "                        <td id=\"T_83458945_eae1_11eb_9359_5c879c05c24brow7_col10\" class=\"data row7 col10\" >0.048790</td>\n",
       "                        <td id=\"T_83458945_eae1_11eb_9359_5c879c05c24brow7_col11\" class=\"data row7 col11\" >0.064104</td>\n",
       "                        <td id=\"T_83458945_eae1_11eb_9359_5c879c05c24brow7_col12\" class=\"data row7 col12\" >-0.073375</td>\n",
       "                        <td id=\"T_83458945_eae1_11eb_9359_5c879c05c24brow7_col13\" class=\"data row7 col13\" >0.045075</td>\n",
       "            </tr>\n",
       "            <tr>\n",
       "                        <th id=\"T_83458945_eae1_11eb_9359_5c879c05c24blevel0_row8\" class=\"row_heading level0 row8\" >InsurancePremiumIndex</th>\n",
       "                        <td id=\"T_83458945_eae1_11eb_9359_5c879c05c24brow8_col0\" class=\"data row8 col0\" >0.079996</td>\n",
       "                        <td id=\"T_83458945_eae1_11eb_9359_5c879c05c24brow8_col1\" class=\"data row8 col1\" >-0.075452</td>\n",
       "                        <td id=\"T_83458945_eae1_11eb_9359_5c879c05c24brow8_col2\" class=\"data row8 col2\" >-0.073979</td>\n",
       "                        <td id=\"T_83458945_eae1_11eb_9359_5c879c05c24brow8_col3\" class=\"data row8 col3\" >-0.098880</td>\n",
       "                        <td id=\"T_83458945_eae1_11eb_9359_5c879c05c24brow8_col4\" class=\"data row8 col4\" >-0.072101</td>\n",
       "                        <td id=\"T_83458945_eae1_11eb_9359_5c879c05c24brow8_col5\" class=\"data row8 col5\" >-0.094452</td>\n",
       "                        <td id=\"T_83458945_eae1_11eb_9359_5c879c05c24brow8_col6\" class=\"data row8 col6\" >-0.072254</td>\n",
       "                        <td id=\"T_83458945_eae1_11eb_9359_5c879c05c24brow8_col7\" class=\"data row8 col7\" >-0.035154</td>\n",
       "                        <td id=\"T_83458945_eae1_11eb_9359_5c879c05c24brow8_col8\" class=\"data row8 col8\" >1.000000</td>\n",
       "                        <td id=\"T_83458945_eae1_11eb_9359_5c879c05c24brow8_col9\" class=\"data row8 col9\" >-0.095664</td>\n",
       "                        <td id=\"T_83458945_eae1_11eb_9359_5c879c05c24brow8_col10\" class=\"data row8 col10\" >-0.097060</td>\n",
       "                        <td id=\"T_83458945_eae1_11eb_9359_5c879c05c24brow8_col11\" class=\"data row8 col11\" >-0.313228</td>\n",
       "                        <td id=\"T_83458945_eae1_11eb_9359_5c879c05c24brow8_col12\" class=\"data row8 col12\" >0.301690</td>\n",
       "                        <td id=\"T_83458945_eae1_11eb_9359_5c879c05c24brow8_col13\" class=\"data row8 col13\" >-0.068265</td>\n",
       "            </tr>\n",
       "            <tr>\n",
       "                        <th id=\"T_83458945_eae1_11eb_9359_5c879c05c24blevel0_row9\" class=\"row_heading level0 row9\" >PriceIndex3</th>\n",
       "                        <td id=\"T_83458945_eae1_11eb_9359_5c879c05c24brow9_col0\" class=\"data row9 col0\" >-0.131712</td>\n",
       "                        <td id=\"T_83458945_eae1_11eb_9359_5c879c05c24brow9_col1\" class=\"data row9 col1\" >0.919177</td>\n",
       "                        <td id=\"T_83458945_eae1_11eb_9359_5c879c05c24brow9_col2\" class=\"data row9 col2\" >0.760367</td>\n",
       "                        <td id=\"T_83458945_eae1_11eb_9359_5c879c05c24brow9_col3\" class=\"data row9 col3\" >0.925772</td>\n",
       "                        <td id=\"T_83458945_eae1_11eb_9359_5c879c05c24brow9_col4\" class=\"data row9 col4\" >0.991199</td>\n",
       "                        <td id=\"T_83458945_eae1_11eb_9359_5c879c05c24brow9_col5\" class=\"data row9 col5\" >0.917086</td>\n",
       "                        <td id=\"T_83458945_eae1_11eb_9359_5c879c05c24brow9_col6\" class=\"data row9 col6\" >0.863794</td>\n",
       "                        <td id=\"T_83458945_eae1_11eb_9359_5c879c05c24brow9_col7\" class=\"data row9 col7\" >0.036223</td>\n",
       "                        <td id=\"T_83458945_eae1_11eb_9359_5c879c05c24brow9_col8\" class=\"data row9 col8\" >-0.095664</td>\n",
       "                        <td id=\"T_83458945_eae1_11eb_9359_5c879c05c24brow9_col9\" class=\"data row9 col9\" >1.000000</td>\n",
       "                        <td id=\"T_83458945_eae1_11eb_9359_5c879c05c24brow9_col10\" class=\"data row9 col10\" >0.866680</td>\n",
       "                        <td id=\"T_83458945_eae1_11eb_9359_5c879c05c24brow9_col11\" class=\"data row9 col11\" >0.585618</td>\n",
       "                        <td id=\"T_83458945_eae1_11eb_9359_5c879c05c24brow9_col12\" class=\"data row9 col12\" >-0.473277</td>\n",
       "                        <td id=\"T_83458945_eae1_11eb_9359_5c879c05c24brow9_col13\" class=\"data row9 col13\" >0.910775</td>\n",
       "            </tr>\n",
       "            <tr>\n",
       "                        <th id=\"T_83458945_eae1_11eb_9359_5c879c05c24blevel0_row10\" class=\"row_heading level0 row10\" >PriceIndex5</th>\n",
       "                        <td id=\"T_83458945_eae1_11eb_9359_5c879c05c24brow10_col0\" class=\"data row10 col0\" >-0.161938</td>\n",
       "                        <td id=\"T_83458945_eae1_11eb_9359_5c879c05c24brow10_col1\" class=\"data row10 col1\" >0.918674</td>\n",
       "                        <td id=\"T_83458945_eae1_11eb_9359_5c879c05c24brow10_col2\" class=\"data row10 col2\" >0.801270</td>\n",
       "                        <td id=\"T_83458945_eae1_11eb_9359_5c879c05c24brow10_col3\" class=\"data row10 col3\" >0.920760</td>\n",
       "                        <td id=\"T_83458945_eae1_11eb_9359_5c879c05c24brow10_col4\" class=\"data row10 col4\" >0.862432</td>\n",
       "                        <td id=\"T_83458945_eae1_11eb_9359_5c879c05c24brow10_col5\" class=\"data row10 col5\" >0.948156</td>\n",
       "                        <td id=\"T_83458945_eae1_11eb_9359_5c879c05c24brow10_col6\" class=\"data row10 col6\" >0.991598</td>\n",
       "                        <td id=\"T_83458945_eae1_11eb_9359_5c879c05c24brow10_col7\" class=\"data row10 col7\" >0.048790</td>\n",
       "                        <td id=\"T_83458945_eae1_11eb_9359_5c879c05c24brow10_col8\" class=\"data row10 col8\" >-0.097060</td>\n",
       "                        <td id=\"T_83458945_eae1_11eb_9359_5c879c05c24brow10_col9\" class=\"data row10 col9\" >0.866680</td>\n",
       "                        <td id=\"T_83458945_eae1_11eb_9359_5c879c05c24brow10_col10\" class=\"data row10 col10\" >1.000000</td>\n",
       "                        <td id=\"T_83458945_eae1_11eb_9359_5c879c05c24brow10_col11\" class=\"data row10 col11\" >0.593644</td>\n",
       "                        <td id=\"T_83458945_eae1_11eb_9359_5c879c05c24brow10_col12\" class=\"data row10 col12\" >-0.578261</td>\n",
       "                        <td id=\"T_83458945_eae1_11eb_9359_5c879c05c24brow10_col13\" class=\"data row10 col13\" >0.936021</td>\n",
       "            </tr>\n",
       "            <tr>\n",
       "                        <th id=\"T_83458945_eae1_11eb_9359_5c879c05c24blevel0_row11\" class=\"row_heading level0 row11\" >BuildYear</th>\n",
       "                        <td id=\"T_83458945_eae1_11eb_9359_5c879c05c24brow11_col0\" class=\"data row11 col0\" >-0.234671</td>\n",
       "                        <td id=\"T_83458945_eae1_11eb_9359_5c879c05c24brow11_col1\" class=\"data row11 col1\" >0.567140</td>\n",
       "                        <td id=\"T_83458945_eae1_11eb_9359_5c879c05c24brow11_col2\" class=\"data row11 col2\" >0.364201</td>\n",
       "                        <td id=\"T_83458945_eae1_11eb_9359_5c879c05c24brow11_col3\" class=\"data row11 col3\" >0.601157</td>\n",
       "                        <td id=\"T_83458945_eae1_11eb_9359_5c879c05c24brow11_col4\" class=\"data row11 col4\" >0.550196</td>\n",
       "                        <td id=\"T_83458945_eae1_11eb_9359_5c879c05c24brow11_col5\" class=\"data row11 col5\" >0.585388</td>\n",
       "                        <td id=\"T_83458945_eae1_11eb_9359_5c879c05c24brow11_col6\" class=\"data row11 col6\" >0.559013</td>\n",
       "                        <td id=\"T_83458945_eae1_11eb_9359_5c879c05c24brow11_col7\" class=\"data row11 col7\" >0.064104</td>\n",
       "                        <td id=\"T_83458945_eae1_11eb_9359_5c879c05c24brow11_col8\" class=\"data row11 col8\" >-0.313228</td>\n",
       "                        <td id=\"T_83458945_eae1_11eb_9359_5c879c05c24brow11_col9\" class=\"data row11 col9\" >0.585618</td>\n",
       "                        <td id=\"T_83458945_eae1_11eb_9359_5c879c05c24brow11_col10\" class=\"data row11 col10\" >0.593644</td>\n",
       "                        <td id=\"T_83458945_eae1_11eb_9359_5c879c05c24brow11_col11\" class=\"data row11 col11\" >1.000000</td>\n",
       "                        <td id=\"T_83458945_eae1_11eb_9359_5c879c05c24brow11_col12\" class=\"data row11 col12\" >-0.960738</td>\n",
       "                        <td id=\"T_83458945_eae1_11eb_9359_5c879c05c24brow11_col13\" class=\"data row11 col13\" >0.547203</td>\n",
       "            </tr>\n",
       "            <tr>\n",
       "                        <th id=\"T_83458945_eae1_11eb_9359_5c879c05c24blevel0_row12\" class=\"row_heading level0 row12\" >PropertyAge</th>\n",
       "                        <td id=\"T_83458945_eae1_11eb_9359_5c879c05c24brow12_col0\" class=\"data row12 col0\" >0.245161</td>\n",
       "                        <td id=\"T_83458945_eae1_11eb_9359_5c879c05c24brow12_col1\" class=\"data row12 col1\" >-0.478993</td>\n",
       "                        <td id=\"T_83458945_eae1_11eb_9359_5c879c05c24brow12_col2\" class=\"data row12 col2\" >-0.329694</td>\n",
       "                        <td id=\"T_83458945_eae1_11eb_9359_5c879c05c24brow12_col3\" class=\"data row12 col3\" >-0.507934</td>\n",
       "                        <td id=\"T_83458945_eae1_11eb_9359_5c879c05c24brow12_col4\" class=\"data row12 col4\" >-0.444858</td>\n",
       "                        <td id=\"T_83458945_eae1_11eb_9359_5c879c05c24brow12_col5\" class=\"data row12 col5\" >-0.570535</td>\n",
       "                        <td id=\"T_83458945_eae1_11eb_9359_5c879c05c24brow12_col6\" class=\"data row12 col6\" >-0.543439</td>\n",
       "                        <td id=\"T_83458945_eae1_11eb_9359_5c879c05c24brow12_col7\" class=\"data row12 col7\" >-0.073375</td>\n",
       "                        <td id=\"T_83458945_eae1_11eb_9359_5c879c05c24brow12_col8\" class=\"data row12 col8\" >0.301690</td>\n",
       "                        <td id=\"T_83458945_eae1_11eb_9359_5c879c05c24brow12_col9\" class=\"data row12 col9\" >-0.473277</td>\n",
       "                        <td id=\"T_83458945_eae1_11eb_9359_5c879c05c24brow12_col10\" class=\"data row12 col10\" >-0.578261</td>\n",
       "                        <td id=\"T_83458945_eae1_11eb_9359_5c879c05c24brow12_col11\" class=\"data row12 col11\" >-0.960738</td>\n",
       "                        <td id=\"T_83458945_eae1_11eb_9359_5c879c05c24brow12_col12\" class=\"data row12 col12\" >1.000000</td>\n",
       "                        <td id=\"T_83458945_eae1_11eb_9359_5c879c05c24brow12_col13\" class=\"data row12 col13\" >-0.533741</td>\n",
       "            </tr>\n",
       "            <tr>\n",
       "                        <th id=\"T_83458945_eae1_11eb_9359_5c879c05c24blevel0_row13\" class=\"row_heading level0 row13\" >PriceIndex2</th>\n",
       "                        <td id=\"T_83458945_eae1_11eb_9359_5c879c05c24brow13_col0\" class=\"data row13 col0\" >-0.151302</td>\n",
       "                        <td id=\"T_83458945_eae1_11eb_9359_5c879c05c24brow13_col1\" class=\"data row13 col1\" >0.881624</td>\n",
       "                        <td id=\"T_83458945_eae1_11eb_9359_5c879c05c24brow13_col2\" class=\"data row13 col2\" >0.796794</td>\n",
       "                        <td id=\"T_83458945_eae1_11eb_9359_5c879c05c24brow13_col3\" class=\"data row13 col3\" >0.872410</td>\n",
       "                        <td id=\"T_83458945_eae1_11eb_9359_5c879c05c24brow13_col4\" class=\"data row13 col4\" >0.924054</td>\n",
       "                        <td id=\"T_83458945_eae1_11eb_9359_5c879c05c24brow13_col5\" class=\"data row13 col5\" >0.991720</td>\n",
       "                        <td id=\"T_83458945_eae1_11eb_9359_5c879c05c24brow13_col6\" class=\"data row13 col6\" >0.942664</td>\n",
       "                        <td id=\"T_83458945_eae1_11eb_9359_5c879c05c24brow13_col7\" class=\"data row13 col7\" >0.045075</td>\n",
       "                        <td id=\"T_83458945_eae1_11eb_9359_5c879c05c24brow13_col8\" class=\"data row13 col8\" >-0.068265</td>\n",
       "                        <td id=\"T_83458945_eae1_11eb_9359_5c879c05c24brow13_col9\" class=\"data row13 col9\" >0.910775</td>\n",
       "                        <td id=\"T_83458945_eae1_11eb_9359_5c879c05c24brow13_col10\" class=\"data row13 col10\" >0.936021</td>\n",
       "                        <td id=\"T_83458945_eae1_11eb_9359_5c879c05c24brow13_col11\" class=\"data row13 col11\" >0.547203</td>\n",
       "                        <td id=\"T_83458945_eae1_11eb_9359_5c879c05c24brow13_col12\" class=\"data row13 col12\" >-0.533741</td>\n",
       "                        <td id=\"T_83458945_eae1_11eb_9359_5c879c05c24brow13_col13\" class=\"data row13 col13\" >1.000000</td>\n",
       "            </tr>\n",
       "    </tbody></table>"
      ],
      "text/plain": [
       "<pandas.io.formats.style.Styler at 0x17b602691f0>"
      ]
     },
     "execution_count": 18,
     "metadata": {},
     "output_type": "execute_result"
    }
   ],
   "source": [
    "all_data.corr().style.background_gradient(cmap='summer_r')"
   ]
  },
  {
   "cell_type": "code",
   "execution_count": 19,
   "metadata": {},
   "outputs": [],
   "source": [
    "for col in ['PriceIndex1', 'PriceIndex2', 'PriceIndex3', 'PriceIndex4',\n",
    "           'PriceIndex5', 'PriceIndex6', 'PriceIndex7', 'PriceIndex8', 'PriceIndex9']:\n",
    "    all_data[col]=pd.to_numeric(all_data[col], errors='coerce')"
   ]
  },
  {
   "cell_type": "code",
   "execution_count": 20,
   "metadata": {},
   "outputs": [],
   "source": [
    "all_data['PriceIndex']=all_data[['PriceIndex1', 'PriceIndex2', 'PriceIndex3', 'PriceIndex4',\n",
    "           'PriceIndex5', 'PriceIndex6', 'PriceIndex7', 'PriceIndex8', 'PriceIndex9']].mean(axis=1)"
   ]
  },
  {
   "cell_type": "code",
   "execution_count": 21,
   "metadata": {},
   "outputs": [],
   "source": [
    "all_data.drop(['PriceIndex1', 'PriceIndex2', 'PriceIndex3', 'PriceIndex4',\n",
    "           'PriceIndex5', 'PriceIndex6', 'PriceIndex7', 'PriceIndex8', 'PriceIndex9'], axis=1, inplace=True)"
   ]
  },
  {
   "cell_type": "code",
   "execution_count": 22,
   "metadata": {},
   "outputs": [
    {
     "data": {
      "text/plain": [
       "Junk                     float64\n",
       "InteriorsStyle            object\n",
       "ListDate                  object\n",
       "Material                  object\n",
       "Agency                    object\n",
       "AreaIncomeType            object\n",
       "EnvRating                 object\n",
       "PRIMEUNIT                 object\n",
       "Channel                   object\n",
       "Zip                        int64\n",
       "InsurancePremiumIndex      int64\n",
       "PlotType                  object\n",
       "Architecture              object\n",
       "Region                    object\n",
       "SubModel                  object\n",
       "Facade                    object\n",
       "State                     object\n",
       "BuildYear                  int64\n",
       "RegionType                object\n",
       "PropertyAge                int64\n",
       "data                      object\n",
       "PriceIndex               float64\n",
       "dtype: object"
      ]
     },
     "execution_count": 22,
     "metadata": {},
     "output_type": "execute_result"
    }
   ],
   "source": [
    "all_data.dtypes"
   ]
  },
  {
   "cell_type": "code",
   "execution_count": 23,
   "metadata": {},
   "outputs": [
    {
     "data": {
      "text/plain": [
       "K3BB    4702\n",
       "RCQE    2850\n",
       "WEGU    2570\n",
       "V3Y1    2114\n",
       "2XWO    2107\n",
       "        ... \n",
       "K5O2       1\n",
       "ALBN       1\n",
       "7AM2       1\n",
       "XPKO       1\n",
       "X722       1\n",
       "Name: InteriorsStyle, Length: 1063, dtype: int64"
      ]
     },
     "execution_count": 23,
     "metadata": {},
     "output_type": "execute_result"
    }
   ],
   "source": [
    "all_data['InteriorsStyle'].value_counts()"
   ]
  },
  {
   "cell_type": "code",
   "execution_count": 24,
   "metadata": {},
   "outputs": [
    {
     "data": {
      "text/plain": [
       "FIVQ    24812\n",
       "KT8F     6678\n",
       "UA42     6485\n",
       "8YTZ     3309\n",
       "GR5P     1965\n",
       "        ...  \n",
       "W0Q3        1\n",
       "DNP9        1\n",
       "LWMR        1\n",
       "991Y        1\n",
       "VY96        1\n",
       "Name: SubModel, Length: 864, dtype: int64"
      ]
     },
     "execution_count": 24,
     "metadata": {},
     "output_type": "execute_result"
    }
   ],
   "source": [
    "all_data['SubModel'].value_counts()"
   ]
  },
  {
   "cell_type": "code",
   "execution_count": 25,
   "metadata": {},
   "outputs": [],
   "source": [
    "##Calculating the frequency of occurence of value, used for high cardinal data\n",
    "value_cnt = dict(all_data['InteriorsStyle'].value_counts())\n",
    "for k in value_cnt:\n",
    "  all_data.loc[all_data['InteriorsStyle']==k,'InteriorsStyle_freq']=value_cnt.get(k)\n",
    "all_data.drop('InteriorsStyle', axis=1, inplace=True)"
   ]
  },
  {
   "cell_type": "code",
   "execution_count": 26,
   "metadata": {},
   "outputs": [],
   "source": [
    "value_cnt = dict(all_data['SubModel'].value_counts())\n",
    "for k in value_cnt:\n",
    "  all_data.loc[all_data['SubModel']==k,'SubModel_freq']=value_cnt.get(k)\n",
    "all_data.drop('SubModel', axis=1, inplace=True)"
   ]
  },
  {
   "cell_type": "code",
   "execution_count": 27,
   "metadata": {},
   "outputs": [
    {
     "data": {
      "text/plain": [
       "51677    1589.0\n",
       "58520     708.0\n",
       "25963    2107.0\n",
       "36662    1551.0\n",
       "29298     771.0\n",
       "          ...  \n",
       "10943     649.0\n",
       "10944    1137.0\n",
       "10945     612.0\n",
       "10946    2107.0\n",
       "10947     485.0\n",
       "Name: InteriorsStyle_freq, Length: 119814, dtype: float64"
      ]
     },
     "execution_count": 27,
     "metadata": {},
     "output_type": "execute_result"
    }
   ],
   "source": [
    "all_data['InteriorsStyle_freq']"
   ]
  },
  {
   "cell_type": "code",
   "execution_count": 28,
   "metadata": {},
   "outputs": [
    {
     "data": {
      "text/plain": [
       "24812.0    24812\n",
       "6678.0      6678\n",
       "6485.0      6485\n",
       "3309.0      3309\n",
       "1965.0      1965\n",
       "           ...  \n",
       "60.0          60\n",
       "57.0          57\n",
       "14.0          56\n",
       "36.0          36\n",
       "33.0          33\n",
       "Name: SubModel_freq, Length: 230, dtype: int64"
      ]
     },
     "execution_count": 28,
     "metadata": {},
     "output_type": "execute_result"
    }
   ],
   "source": [
    "all_data['SubModel_freq'].value_counts()"
   ]
  },
  {
   "cell_type": "code",
   "execution_count": 29,
   "metadata": {},
   "outputs": [
    {
     "data": {
      "text/html": [
       "<div>\n",
       "<style scoped>\n",
       "    .dataframe tbody tr th:only-of-type {\n",
       "        vertical-align: middle;\n",
       "    }\n",
       "\n",
       "    .dataframe tbody tr th {\n",
       "        vertical-align: top;\n",
       "    }\n",
       "\n",
       "    .dataframe thead th {\n",
       "        text-align: right;\n",
       "    }\n",
       "</style>\n",
       "<table border=\"1\" class=\"dataframe\">\n",
       "  <thead>\n",
       "    <tr style=\"text-align: right;\">\n",
       "      <th></th>\n",
       "      <th>Junk</th>\n",
       "      <th>ListDate</th>\n",
       "      <th>Material</th>\n",
       "      <th>Agency</th>\n",
       "      <th>AreaIncomeType</th>\n",
       "      <th>EnvRating</th>\n",
       "      <th>PRIMEUNIT</th>\n",
       "      <th>Channel</th>\n",
       "      <th>Zip</th>\n",
       "      <th>InsurancePremiumIndex</th>\n",
       "      <th>...</th>\n",
       "      <th>Region</th>\n",
       "      <th>Facade</th>\n",
       "      <th>State</th>\n",
       "      <th>BuildYear</th>\n",
       "      <th>RegionType</th>\n",
       "      <th>PropertyAge</th>\n",
       "      <th>data</th>\n",
       "      <th>PriceIndex</th>\n",
       "      <th>InteriorsStyle_freq</th>\n",
       "      <th>SubModel_freq</th>\n",
       "    </tr>\n",
       "  </thead>\n",
       "  <tbody>\n",
       "    <tr>\n",
       "      <th>51677</th>\n",
       "      <td>1.0</td>\n",
       "      <td>8/18/2010</td>\n",
       "      <td>C8A4</td>\n",
       "      <td>CAT1</td>\n",
       "      <td>B</td>\n",
       "      <td>NaN</td>\n",
       "      <td>NaN</td>\n",
       "      <td>Direct</td>\n",
       "      <td>75236</td>\n",
       "      <td>1038</td>\n",
       "      <td>...</td>\n",
       "      <td>A</td>\n",
       "      <td>SILVER</td>\n",
       "      <td>TX</td>\n",
       "      <td>2006</td>\n",
       "      <td>A</td>\n",
       "      <td>4</td>\n",
       "      <td>train</td>\n",
       "      <td>8409.222222</td>\n",
       "      <td>1589.0</td>\n",
       "      <td>6678.0</td>\n",
       "    </tr>\n",
       "    <tr>\n",
       "      <th>58520</th>\n",
       "      <td>1.0</td>\n",
       "      <td>3/18/2009</td>\n",
       "      <td>NYFD</td>\n",
       "      <td>CAT2</td>\n",
       "      <td>A</td>\n",
       "      <td>NaN</td>\n",
       "      <td>NaN</td>\n",
       "      <td>Direct</td>\n",
       "      <td>22801</td>\n",
       "      <td>1065</td>\n",
       "      <td>...</td>\n",
       "      <td>A</td>\n",
       "      <td>RED</td>\n",
       "      <td>VA</td>\n",
       "      <td>2003</td>\n",
       "      <td>A</td>\n",
       "      <td>6</td>\n",
       "      <td>train</td>\n",
       "      <td>3585.888889</td>\n",
       "      <td>708.0</td>\n",
       "      <td>770.0</td>\n",
       "    </tr>\n",
       "    <tr>\n",
       "      <th>25963</th>\n",
       "      <td>1.0</td>\n",
       "      <td>6/8/2010</td>\n",
       "      <td>PRN0</td>\n",
       "      <td>CAT2</td>\n",
       "      <td>B</td>\n",
       "      <td>NaN</td>\n",
       "      <td>NaN</td>\n",
       "      <td>Direct</td>\n",
       "      <td>85040</td>\n",
       "      <td>983</td>\n",
       "      <td>...</td>\n",
       "      <td>A</td>\n",
       "      <td>BLACK</td>\n",
       "      <td>AZ</td>\n",
       "      <td>2007</td>\n",
       "      <td>A</td>\n",
       "      <td>3</td>\n",
       "      <td>train</td>\n",
       "      <td>8726.111111</td>\n",
       "      <td>2107.0</td>\n",
       "      <td>3309.0</td>\n",
       "    </tr>\n",
       "    <tr>\n",
       "      <th>36662</th>\n",
       "      <td>1.0</td>\n",
       "      <td>12/1/2010</td>\n",
       "      <td>IKAF</td>\n",
       "      <td>CAT2</td>\n",
       "      <td>B</td>\n",
       "      <td>NaN</td>\n",
       "      <td>NaN</td>\n",
       "      <td>Direct</td>\n",
       "      <td>33809</td>\n",
       "      <td>1341</td>\n",
       "      <td>...</td>\n",
       "      <td>A</td>\n",
       "      <td>GREY</td>\n",
       "      <td>FL</td>\n",
       "      <td>2008</td>\n",
       "      <td>A</td>\n",
       "      <td>2</td>\n",
       "      <td>train</td>\n",
       "      <td>9817.666667</td>\n",
       "      <td>1551.0</td>\n",
       "      <td>1782.0</td>\n",
       "    </tr>\n",
       "    <tr>\n",
       "      <th>29298</th>\n",
       "      <td>1.0</td>\n",
       "      <td>4/6/2010</td>\n",
       "      <td>C8A4</td>\n",
       "      <td>CAT1</td>\n",
       "      <td>B</td>\n",
       "      <td>NaN</td>\n",
       "      <td>NaN</td>\n",
       "      <td>Other</td>\n",
       "      <td>85284</td>\n",
       "      <td>623</td>\n",
       "      <td>...</td>\n",
       "      <td>A</td>\n",
       "      <td>SILVER</td>\n",
       "      <td>AZ</td>\n",
       "      <td>2008</td>\n",
       "      <td>A</td>\n",
       "      <td>2</td>\n",
       "      <td>train</td>\n",
       "      <td>7714.555556</td>\n",
       "      <td>771.0</td>\n",
       "      <td>71.0</td>\n",
       "    </tr>\n",
       "  </tbody>\n",
       "</table>\n",
       "<p>5 rows × 22 columns</p>\n",
       "</div>"
      ],
      "text/plain": [
       "       Junk   ListDate Material Agency AreaIncomeType EnvRating PRIMEUNIT  \\\n",
       "51677   1.0  8/18/2010     C8A4   CAT1              B       NaN       NaN   \n",
       "58520   1.0  3/18/2009     NYFD   CAT2              A       NaN       NaN   \n",
       "25963   1.0   6/8/2010     PRN0   CAT2              B       NaN       NaN   \n",
       "36662   1.0  12/1/2010     IKAF   CAT2              B       NaN       NaN   \n",
       "29298   1.0   4/6/2010     C8A4   CAT1              B       NaN       NaN   \n",
       "\n",
       "      Channel    Zip  InsurancePremiumIndex  ... Region  Facade State  \\\n",
       "51677  Direct  75236                   1038  ...      A  SILVER    TX   \n",
       "58520  Direct  22801                   1065  ...      A     RED    VA   \n",
       "25963  Direct  85040                    983  ...      A   BLACK    AZ   \n",
       "36662  Direct  33809                   1341  ...      A    GREY    FL   \n",
       "29298   Other  85284                    623  ...      A  SILVER    AZ   \n",
       "\n",
       "      BuildYear RegionType  PropertyAge   data   PriceIndex  \\\n",
       "51677      2006          A            4  train  8409.222222   \n",
       "58520      2003          A            6  train  3585.888889   \n",
       "25963      2007          A            3  train  8726.111111   \n",
       "36662      2008          A            2  train  9817.666667   \n",
       "29298      2008          A            2  train  7714.555556   \n",
       "\n",
       "      InteriorsStyle_freq  SubModel_freq  \n",
       "51677              1589.0         6678.0  \n",
       "58520               708.0          770.0  \n",
       "25963              2107.0         3309.0  \n",
       "36662              1551.0         1782.0  \n",
       "29298               771.0           71.0  \n",
       "\n",
       "[5 rows x 22 columns]"
      ]
     },
     "execution_count": 29,
     "metadata": {},
     "output_type": "execute_result"
    }
   ],
   "source": [
    "all_data.head()"
   ]
  },
  {
   "cell_type": "code",
   "execution_count": 30,
   "metadata": {},
   "outputs": [],
   "source": [
    "all_data.drop('Zip', axis=1, inplace=True)"
   ]
  },
  {
   "cell_type": "code",
   "execution_count": 31,
   "metadata": {},
   "outputs": [],
   "source": [
    "all_data.drop('BuildYear', axis=1, inplace=True)"
   ]
  },
  {
   "cell_type": "code",
   "execution_count": 32,
   "metadata": {},
   "outputs": [
    {
     "data": {
      "text/plain": [
       "<AxesSubplot:>"
      ]
     },
     "execution_count": 32,
     "metadata": {},
     "output_type": "execute_result"
    },
    {
     "data": {
      "image/png": "[encoded data removed]",
      "text/plain": [
       "<Figure size 432x288 with 2 Axes>"
      ]
     },
     "metadata": {
      "needs_background": "light"
     },
     "output_type": "display_data"
    }
   ],
   "source": [
    "sns.heatmap(all_data.corr())"
   ]
  },
  {
   "cell_type": "code",
   "execution_count": 33,
   "metadata": {},
   "outputs": [
    {
     "name": "stdout",
     "output_type": "stream",
     "text": [
      "Column name is : Junk and it  value is : 0.0    54433\n",
      "1.0    54433\n",
      "Name: Junk, dtype: int64\n",
      "\n",
      "Column name is : ListDate and it  value is : 11/23/2010    691\n",
      "12/8/2010     686\n",
      "8/26/2009     644\n",
      "2/25/2009     635\n",
      "3/4/2009      607\n",
      "             ... \n",
      "5/25/2009       2\n",
      "2/20/2010       2\n",
      "1/10/2010       1\n",
      "12/24/2010      1\n",
      "12/4/2010       1\n",
      "Name: ListDate, Length: 517, dtype: int64\n",
      "\n",
      "Column name is : Material and it  value is : PRN0    22688\n",
      "ZCI3    15372\n",
      "C8A4    14917\n",
      "NYFD     5720\n",
      "X7IX     4927\n",
      "        ...  \n",
      "JXAI        1\n",
      "M81Y        1\n",
      "SD2O        1\n",
      "MS1W        1\n",
      "8ZEX        1\n",
      "Name: Material, Length: 135, dtype: int64\n",
      "\n",
      "Column name is : Agency and it  value is : CAT1     39437\n",
      "CAT2     37700\n",
      "CAT3     22508\n",
      "OTHER    20164\n",
      "Name: Agency, dtype: int64\n",
      "\n",
      "Column name is : AreaIncomeType and it  value is : A    57013\n",
      "B    46603\n",
      "C     1271\n",
      "Name: AreaIncomeType, dtype: int64\n",
      "\n",
      "Column name is : EnvRating and it  value is : GREEN    3996\n",
      "RED       122\n",
      "Name: EnvRating, dtype: int64\n",
      "\n",
      "Column name is : PRIMEUNIT and it  value is : NO     4034\n",
      "YES      84\n",
      "Name: PRIMEUNIT, dtype: int64\n",
      "\n",
      "Column name is : Channel and it  value is : Direct    65421\n",
      "Other     28428\n",
      "Agent     25965\n",
      "Name: Channel, dtype: int64\n",
      "\n",
      "Column name is : InsurancePremiumIndex and it  value is : 920     4306\n",
      "1974    3286\n",
      "1389    3148\n",
      "1215    3119\n",
      "1155    3114\n",
      "        ... \n",
      "7498       1\n",
      "7198       1\n",
      "2937       1\n",
      "1361       1\n",
      "4241       1\n",
      "Name: InsurancePremiumIndex, Length: 281, dtype: int64\n",
      "\n",
      "Column name is : PlotType and it  value is : WHBI    49102\n",
      "32T2    14345\n",
      "W62B    13222\n",
      "DIJX    13120\n",
      "WLQ6     9855\n",
      "DSSM     5055\n",
      "DJOP     3923\n",
      "7RBQ     2828\n",
      "V5R0     2685\n",
      "I00H     2683\n",
      "8FRL     1507\n",
      "LIGY     1484\n",
      "T559        5\n",
      "Name: PlotType, dtype: int64\n",
      "\n",
      "Column name is : Architecture and it  value is : YIK5    25862\n",
      "I3Z9    20504\n",
      "TP7R    19861\n",
      "AVYP    14839\n",
      "1M5X     6836\n",
      "4GZ4     4024\n",
      "RZOR     3766\n",
      "7IYX     3762\n",
      "8SPA     3033\n",
      "K92H     2989\n",
      "KML6     2314\n",
      "RIAX     1822\n",
      "STJH     1742\n",
      "M3C0     1714\n",
      "5NBT     1688\n",
      "X120     1332\n",
      "5A9R     1083\n",
      "DKOO      775\n",
      "AZHP      503\n",
      "W86R      262\n",
      "FCXM      239\n",
      "1IKD      189\n",
      "WWBR      162\n",
      "XDZM      109\n",
      "O8PU       93\n",
      "BOLF       76\n",
      "PQP2       65\n",
      "CR4E       59\n",
      "GHDG       58\n",
      "R0QP       37\n",
      "OYQM       14\n",
      "2MTV        1\n",
      "OJBM        1\n",
      "Name: Architecture, dtype: int64\n",
      "\n",
      "Column name is : Region and it  value is : A    115775\n",
      "B      4030\n",
      "Name: Region, dtype: int64\n",
      "\n",
      "Column name is : Facade and it  value is : SILVER       24485\n",
      "WHITE        20117\n",
      "BLUE         16655\n",
      "GREY         12731\n",
      "BLACK        12042\n",
      "RED          10452\n",
      "GOLD          9033\n",
      "GREEN         5169\n",
      "MAROON        3335\n",
      "BEIGE         2750\n",
      "BROWN          749\n",
      "PURPLE         695\n",
      "ORANGE         560\n",
      "YELLOW         420\n",
      "OTHER          398\n",
      "NOT AVAIL      215\n",
      "Name: Facade, dtype: int64\n",
      "\n",
      "Column name is : State and it  value is : TX    23399\n",
      "FL    16487\n",
      "CA    12130\n",
      "NC    11164\n",
      "AZ     9814\n",
      "CO     8212\n",
      "SC     7363\n",
      "OK     5309\n",
      "GA     3949\n",
      "VA     2950\n",
      "TN     2735\n",
      "MD     2015\n",
      "PA     1552\n",
      "UT     1445\n",
      "OH     1190\n",
      "AL     1167\n",
      "MO     1142\n",
      "NV     1044\n",
      "IA      857\n",
      "IL      828\n",
      "IN      821\n",
      "MS      730\n",
      "LA      612\n",
      "NJ      512\n",
      "WV      431\n",
      "NM      401\n",
      "ID      311\n",
      "OR      293\n",
      "KY      293\n",
      "WA      194\n",
      "AR      164\n",
      "NH      145\n",
      "MN       76\n",
      "NE       32\n",
      "MA       22\n",
      "MI       19\n",
      "NY        6\n",
      "Name: State, dtype: int64\n",
      "\n",
      "Column name is : RegionType and it  value is : A        99645\n",
      "B        13572\n",
      "C         6251\n",
      "OTHER      341\n",
      "Name: RegionType, dtype: int64\n",
      "\n",
      "Column name is : PropertyAge and it  value is : 4    26804\n",
      "5    22791\n",
      "3    22680\n",
      "6    15506\n",
      "2    11403\n",
      "7     9909\n",
      "8     5308\n",
      "1     3701\n",
      "9     1710\n",
      "0        2\n",
      "Name: PropertyAge, dtype: int64\n",
      "\n",
      "Column name is : data and it  value is : train    108866\n",
      "test      10948\n",
      "Name: data, dtype: int64\n",
      "\n",
      "Column name is : PriceIndex and it  value is : 9475.666667     53\n",
      "9306.555556     47\n",
      "9102.222222     45\n",
      "8681.333333     41\n",
      "9382.888889     39\n",
      "                ..\n",
      "10166.666667     1\n",
      "14174.555556     1\n",
      "15304.555556     1\n",
      "15159.444444     1\n",
      "6144.000000      1\n",
      "Name: PriceIndex, Length: 48433, dtype: int64\n",
      "\n",
      "Column name is : InteriorsStyle_freq and it  value is : 4702.0    4702\n",
      "2850.0    2850\n",
      "2570.0    2570\n",
      "2114.0    2114\n",
      "2107.0    2107\n",
      "          ... \n",
      "69.0        69\n",
      "68.0        68\n",
      "54.0        54\n",
      "26.0        52\n",
      "52.0        52\n",
      "Name: InteriorsStyle_freq, Length: 277, dtype: int64\n",
      "\n",
      "Column name is : SubModel_freq and it  value is : 24812.0    24812\n",
      "6678.0      6678\n",
      "6485.0      6485\n",
      "3309.0      3309\n",
      "1965.0      1965\n",
      "           ...  \n",
      "60.0          60\n",
      "57.0          57\n",
      "14.0          56\n",
      "36.0          36\n",
      "33.0          33\n",
      "Name: SubModel_freq, Length: 230, dtype: int64\n",
      "\n"
     ]
    }
   ],
   "source": [
    "for i in all_data.columns:\n",
    "    x= all_data[i].value_counts()\n",
    "    print('Column name is :',i,'and it  value is :',x)\n",
    "    print()"
   ]
  },
  {
   "cell_type": "code",
   "execution_count": 34,
   "metadata": {},
   "outputs": [
    {
     "data": {
      "text/plain": [
       "A    57013\n",
       "B    46603\n",
       "C     1271\n",
       "Name: AreaIncomeType, dtype: int64"
      ]
     },
     "execution_count": 34,
     "metadata": {},
     "output_type": "execute_result"
    }
   ],
   "source": [
    "all_data['AreaIncomeType'].value_counts()"
   ]
  },
  {
   "cell_type": "code",
   "execution_count": 35,
   "metadata": {},
   "outputs": [
    {
     "data": {
      "text/plain": [
       "CAT1     39437\n",
       "CAT2     37700\n",
       "CAT3     22508\n",
       "OTHER    20164\n",
       "Name: Agency, dtype: int64"
      ]
     },
     "execution_count": 35,
     "metadata": {},
     "output_type": "execute_result"
    }
   ],
   "source": [
    "all_data['Agency'].value_counts()"
   ]
  },
  {
   "cell_type": "code",
   "execution_count": 36,
   "metadata": {},
   "outputs": [
    {
     "data": {
      "text/plain": [
       "A    115775\n",
       "B      4030\n",
       "Name: Region, dtype: int64"
      ]
     },
     "execution_count": 36,
     "metadata": {},
     "output_type": "execute_result"
    }
   ],
   "source": [
    "all_data['Region'].value_counts()"
   ]
  },
  {
   "cell_type": "code",
   "execution_count": 37,
   "metadata": {},
   "outputs": [
    {
     "data": {
      "text/plain": [
       "A        99645\n",
       "B        13572\n",
       "C         6251\n",
       "OTHER      341\n",
       "Name: RegionType, dtype: int64"
      ]
     },
     "execution_count": 37,
     "metadata": {},
     "output_type": "execute_result"
    }
   ],
   "source": [
    "all_data['RegionType'].value_counts()"
   ]
  },
  {
   "cell_type": "code",
   "execution_count": 38,
   "metadata": {},
   "outputs": [
    {
     "data": {
      "text/plain": [
       "ListDate               0\n",
       "Material               0\n",
       "Agency                 5\n",
       "AreaIncomeType     14927\n",
       "EnvRating         115696\n",
       "PRIMEUNIT         115696\n",
       "Channel                0\n",
       "PlotType               0\n",
       "Architecture           0\n",
       "Region                 9\n",
       "Facade                 8\n",
       "State                  0\n",
       "RegionType             5\n",
       "data                   0\n",
       "dtype: int64"
      ]
     },
     "execution_count": 38,
     "metadata": {},
     "output_type": "execute_result"
    }
   ],
   "source": [
    "all_data.select_dtypes(['object']).isna().sum()"
   ]
  },
  {
   "cell_type": "code",
   "execution_count": 39,
   "metadata": {},
   "outputs": [],
   "source": [
    "col_to_impute=[]\n",
    "encoder_dict=dict()\n",
    "decoder_dict=dict()\n",
    "\n",
    "col_to_impute=['Agency','AreaIncomeType','Region','RegionType']\n",
    "\n",
    "#Creating labels for all column values\n",
    "for col in col_to_impute:\n",
    "  encoder_dict[col]={key:value for value, key in enumerate(all_data.loc[all_data[col].notnull(), col].unique(), start=1)}\n",
    "\n",
    "#encoding columns with numerical value\n",
    "all_data.replace(encoder_dict, inplace=True)\n",
    "\n",
    "#imputing Missing values\n",
    "cat_imputer=KNNImputer(n_neighbors=3, weights='distance')\n",
    "all_data[col_to_impute]=np.round(cat_imputer.fit_transform(all_data[col_to_impute]))\n",
    "\n",
    "#decoding numerical to categorical\n",
    "for col in col_to_impute:\n",
    "  decoder_dict[col]={float(value):key for key ,value in encoder_dict[col].items()}\n",
    "\n",
    "all_data.replace(decoder_dict, inplace=True)"
   ]
  },
  {
   "cell_type": "code",
   "execution_count": 40,
   "metadata": {},
   "outputs": [
    {
     "data": {
      "text/html": [
       "<div>\n",
       "<style scoped>\n",
       "    .dataframe tbody tr th:only-of-type {\n",
       "        vertical-align: middle;\n",
       "    }\n",
       "\n",
       "    .dataframe tbody tr th {\n",
       "        vertical-align: top;\n",
       "    }\n",
       "\n",
       "    .dataframe thead th {\n",
       "        text-align: right;\n",
       "    }\n",
       "</style>\n",
       "<table border=\"1\" class=\"dataframe\">\n",
       "  <thead>\n",
       "    <tr style=\"text-align: right;\">\n",
       "      <th></th>\n",
       "      <th>Junk</th>\n",
       "      <th>ListDate</th>\n",
       "      <th>Material</th>\n",
       "      <th>Agency</th>\n",
       "      <th>AreaIncomeType</th>\n",
       "      <th>EnvRating</th>\n",
       "      <th>PRIMEUNIT</th>\n",
       "      <th>Channel</th>\n",
       "      <th>InsurancePremiumIndex</th>\n",
       "      <th>PlotType</th>\n",
       "      <th>Architecture</th>\n",
       "      <th>Region</th>\n",
       "      <th>Facade</th>\n",
       "      <th>State</th>\n",
       "      <th>RegionType</th>\n",
       "      <th>PropertyAge</th>\n",
       "      <th>data</th>\n",
       "      <th>PriceIndex</th>\n",
       "      <th>InteriorsStyle_freq</th>\n",
       "      <th>SubModel_freq</th>\n",
       "    </tr>\n",
       "  </thead>\n",
       "  <tbody>\n",
       "    <tr>\n",
       "      <th>51677</th>\n",
       "      <td>1.0</td>\n",
       "      <td>8/18/2010</td>\n",
       "      <td>C8A4</td>\n",
       "      <td>CAT1</td>\n",
       "      <td>B</td>\n",
       "      <td>NaN</td>\n",
       "      <td>NaN</td>\n",
       "      <td>Direct</td>\n",
       "      <td>1038</td>\n",
       "      <td>WHBI</td>\n",
       "      <td>YIK5</td>\n",
       "      <td>A</td>\n",
       "      <td>SILVER</td>\n",
       "      <td>TX</td>\n",
       "      <td>A</td>\n",
       "      <td>4</td>\n",
       "      <td>train</td>\n",
       "      <td>8409.222222</td>\n",
       "      <td>1589.0</td>\n",
       "      <td>6678.0</td>\n",
       "    </tr>\n",
       "    <tr>\n",
       "      <th>58520</th>\n",
       "      <td>1.0</td>\n",
       "      <td>3/18/2009</td>\n",
       "      <td>NYFD</td>\n",
       "      <td>CAT2</td>\n",
       "      <td>A</td>\n",
       "      <td>NaN</td>\n",
       "      <td>NaN</td>\n",
       "      <td>Direct</td>\n",
       "      <td>1065</td>\n",
       "      <td>DIJX</td>\n",
       "      <td>TP7R</td>\n",
       "      <td>A</td>\n",
       "      <td>RED</td>\n",
       "      <td>VA</td>\n",
       "      <td>A</td>\n",
       "      <td>6</td>\n",
       "      <td>train</td>\n",
       "      <td>3585.888889</td>\n",
       "      <td>708.0</td>\n",
       "      <td>770.0</td>\n",
       "    </tr>\n",
       "    <tr>\n",
       "      <th>25963</th>\n",
       "      <td>1.0</td>\n",
       "      <td>6/8/2010</td>\n",
       "      <td>PRN0</td>\n",
       "      <td>CAT2</td>\n",
       "      <td>B</td>\n",
       "      <td>NaN</td>\n",
       "      <td>NaN</td>\n",
       "      <td>Direct</td>\n",
       "      <td>983</td>\n",
       "      <td>WHBI</td>\n",
       "      <td>TP7R</td>\n",
       "      <td>A</td>\n",
       "      <td>BLACK</td>\n",
       "      <td>AZ</td>\n",
       "      <td>A</td>\n",
       "      <td>3</td>\n",
       "      <td>train</td>\n",
       "      <td>8726.111111</td>\n",
       "      <td>2107.0</td>\n",
       "      <td>3309.0</td>\n",
       "    </tr>\n",
       "    <tr>\n",
       "      <th>36662</th>\n",
       "      <td>1.0</td>\n",
       "      <td>12/1/2010</td>\n",
       "      <td>IKAF</td>\n",
       "      <td>CAT2</td>\n",
       "      <td>B</td>\n",
       "      <td>NaN</td>\n",
       "      <td>NaN</td>\n",
       "      <td>Direct</td>\n",
       "      <td>1341</td>\n",
       "      <td>WHBI</td>\n",
       "      <td>AVYP</td>\n",
       "      <td>A</td>\n",
       "      <td>GREY</td>\n",
       "      <td>FL</td>\n",
       "      <td>A</td>\n",
       "      <td>2</td>\n",
       "      <td>train</td>\n",
       "      <td>9817.666667</td>\n",
       "      <td>1551.0</td>\n",
       "      <td>1782.0</td>\n",
       "    </tr>\n",
       "    <tr>\n",
       "      <th>29298</th>\n",
       "      <td>1.0</td>\n",
       "      <td>4/6/2010</td>\n",
       "      <td>C8A4</td>\n",
       "      <td>CAT1</td>\n",
       "      <td>B</td>\n",
       "      <td>NaN</td>\n",
       "      <td>NaN</td>\n",
       "      <td>Other</td>\n",
       "      <td>623</td>\n",
       "      <td>DIJX</td>\n",
       "      <td>YIK5</td>\n",
       "      <td>A</td>\n",
       "      <td>SILVER</td>\n",
       "      <td>AZ</td>\n",
       "      <td>A</td>\n",
       "      <td>2</td>\n",
       "      <td>train</td>\n",
       "      <td>7714.555556</td>\n",
       "      <td>771.0</td>\n",
       "      <td>71.0</td>\n",
       "    </tr>\n",
       "  </tbody>\n",
       "</table>\n",
       "</div>"
      ],
      "text/plain": [
       "       Junk   ListDate Material Agency AreaIncomeType EnvRating PRIMEUNIT  \\\n",
       "51677   1.0  8/18/2010     C8A4   CAT1              B       NaN       NaN   \n",
       "58520   1.0  3/18/2009     NYFD   CAT2              A       NaN       NaN   \n",
       "25963   1.0   6/8/2010     PRN0   CAT2              B       NaN       NaN   \n",
       "36662   1.0  12/1/2010     IKAF   CAT2              B       NaN       NaN   \n",
       "29298   1.0   4/6/2010     C8A4   CAT1              B       NaN       NaN   \n",
       "\n",
       "      Channel  InsurancePremiumIndex PlotType Architecture Region  Facade  \\\n",
       "51677  Direct                   1038     WHBI         YIK5      A  SILVER   \n",
       "58520  Direct                   1065     DIJX         TP7R      A     RED   \n",
       "25963  Direct                    983     WHBI         TP7R      A   BLACK   \n",
       "36662  Direct                   1341     WHBI         AVYP      A    GREY   \n",
       "29298   Other                    623     DIJX         YIK5      A  SILVER   \n",
       "\n",
       "      State RegionType  PropertyAge   data   PriceIndex  InteriorsStyle_freq  \\\n",
       "51677    TX          A            4  train  8409.222222               1589.0   \n",
       "58520    VA          A            6  train  3585.888889                708.0   \n",
       "25963    AZ          A            3  train  8726.111111               2107.0   \n",
       "36662    FL          A            2  train  9817.666667               1551.0   \n",
       "29298    AZ          A            2  train  7714.555556                771.0   \n",
       "\n",
       "       SubModel_freq  \n",
       "51677         6678.0  \n",
       "58520          770.0  \n",
       "25963         3309.0  \n",
       "36662         1782.0  \n",
       "29298           71.0  "
      ]
     },
     "execution_count": 40,
     "metadata": {},
     "output_type": "execute_result"
    }
   ],
   "source": [
    "all_data.head()"
   ]
  },
  {
   "cell_type": "code",
   "execution_count": 41,
   "metadata": {},
   "outputs": [
    {
     "data": {
      "text/plain": [
       "ListDate               0\n",
       "Material               0\n",
       "Agency                 0\n",
       "AreaIncomeType         0\n",
       "EnvRating         115696\n",
       "PRIMEUNIT         115696\n",
       "Channel                0\n",
       "PlotType               0\n",
       "Architecture           0\n",
       "Region                 0\n",
       "Facade                 8\n",
       "State                  0\n",
       "RegionType             0\n",
       "data                   0\n",
       "dtype: int64"
      ]
     },
     "execution_count": 41,
     "metadata": {},
     "output_type": "execute_result"
    }
   ],
   "source": [
    "all_data.select_dtypes(['object']).isna().sum()"
   ]
  },
  {
   "cell_type": "code",
   "execution_count": 42,
   "metadata": {},
   "outputs": [
    {
     "data": {
      "text/plain": [
       "B    59474\n",
       "A    59069\n",
       "C     1271\n",
       "Name: AreaIncomeType, dtype: int64"
      ]
     },
     "execution_count": 42,
     "metadata": {},
     "output_type": "execute_result"
    }
   ],
   "source": [
    "all_data['AreaIncomeType'].value_counts()"
   ]
  },
  {
   "cell_type": "code",
   "execution_count": 43,
   "metadata": {},
   "outputs": [
    {
     "data": {
      "text/plain": [
       "GREEN    3996\n",
       "RED       122\n",
       "Name: EnvRating, dtype: int64"
      ]
     },
     "execution_count": 43,
     "metadata": {},
     "output_type": "execute_result"
    }
   ],
   "source": [
    "all_data['EnvRating'].value_counts()"
   ]
  },
  {
   "cell_type": "code",
   "execution_count": 44,
   "metadata": {},
   "outputs": [
    {
     "data": {
      "text/plain": [
       "B    59474\n",
       "A    59069\n",
       "C     1271\n",
       "Name: AreaIncomeType, dtype: int64"
      ]
     },
     "execution_count": 44,
     "metadata": {},
     "output_type": "execute_result"
    }
   ],
   "source": [
    "all_data['AreaIncomeType'].value_counts()"
   ]
  },
  {
   "cell_type": "code",
   "execution_count": 45,
   "metadata": {},
   "outputs": [
    {
     "data": {
      "text/plain": [
       "A        99650\n",
       "B        13572\n",
       "C         6251\n",
       "OTHER      341\n",
       "Name: RegionType, dtype: int64"
      ]
     },
     "execution_count": 45,
     "metadata": {},
     "output_type": "execute_result"
    }
   ],
   "source": [
    "all_data['RegionType'].value_counts()"
   ]
  },
  {
   "cell_type": "code",
   "execution_count": 46,
   "metadata": {},
   "outputs": [
    {
     "data": {
      "text/plain": [
       "NO     4034\n",
       "YES      84\n",
       "Name: PRIMEUNIT, dtype: int64"
      ]
     },
     "execution_count": 46,
     "metadata": {},
     "output_type": "execute_result"
    }
   ],
   "source": [
    "all_data['PRIMEUNIT'].value_counts()"
   ]
  },
  {
   "cell_type": "code",
   "execution_count": 47,
   "metadata": {},
   "outputs": [
    {
     "data": {
      "text/plain": [
       "A    115784\n",
       "B      4030\n",
       "Name: Region, dtype: int64"
      ]
     },
     "execution_count": 47,
     "metadata": {},
     "output_type": "execute_result"
    }
   ],
   "source": [
    "all_data['Region'].value_counts()"
   ]
  },
  {
   "cell_type": "code",
   "execution_count": 48,
   "metadata": {},
   "outputs": [
    {
     "data": {
      "text/plain": [
       "Direct    65421\n",
       "Other     28428\n",
       "Agent     25965\n",
       "Name: Channel, dtype: int64"
      ]
     },
     "execution_count": 48,
     "metadata": {},
     "output_type": "execute_result"
    }
   ],
   "source": [
    "all_data['Channel'].value_counts()"
   ]
  },
  {
   "cell_type": "code",
   "execution_count": 49,
   "metadata": {},
   "outputs": [
    {
     "data": {
      "text/plain": [
       "CAT1     39437\n",
       "CAT2     37705\n",
       "CAT3     22508\n",
       "OTHER    20164\n",
       "Name: Agency, dtype: int64"
      ]
     },
     "execution_count": 49,
     "metadata": {},
     "output_type": "execute_result"
    }
   ],
   "source": [
    "all_data['Agency'].value_counts()"
   ]
  },
  {
   "cell_type": "code",
   "execution_count": 50,
   "metadata": {},
   "outputs": [],
   "source": [
    "all_data['PRIMEUNIT_NO'] = np.where(all_data['PRIMEUNIT'] == 'NO',1,0)\n",
    "all_data['EnvRating_green'] = np.where(all_data['EnvRating'] == 'GREEN',1,0)\n",
    "all_data['Channel_Agent'] = np.where(all_data['Channel'] == 'Agent',1,0)\n",
    "all_data['AreaIncomeType_B'] = np.where(all_data['AreaIncomeType']=='B' , 1, 0)\n",
    "all_data['Region_A'] = np.where(all_data['Region']=='A' , 1, 0)\n",
    "all_data['RegionType_A'] = np.where(all_data['RegionType']=='A', 1, 0)"
   ]
  },
  {
   "cell_type": "code",
   "execution_count": 51,
   "metadata": {},
   "outputs": [],
   "source": [
    "all_data.drop(['PRIMEUNIT', 'EnvRating', 'Channel', 'AreaIncomeType', 'Region', 'RegionType' ], axis=1, inplace=True)"
   ]
  },
  {
   "cell_type": "code",
   "execution_count": 51,
   "metadata": {},
   "outputs": [
    {
     "data": {
      "text/plain": [
       "0    115791\n",
       "1      4023\n",
       "Name: EnvRating_green, dtype: int64"
      ]
     },
     "execution_count": 51,
     "metadata": {},
     "output_type": "execute_result"
    }
   ],
   "source": [
    "all_data['EnvRating_green'].value_counts()"
   ]
  },
  {
   "cell_type": "code",
   "execution_count": 40,
   "metadata": {},
   "outputs": [
    {
     "data": {
      "text/plain": [
       "PlotType\n",
       "32T2    0.551676\n",
       "7RBQ    0.421887\n",
       "8FRL    0.547253\n",
       "DIJX    0.570774\n",
       "DJOP    0.550812\n",
       "DSSM    0.488784\n",
       "I00H    0.468940\n",
       "LIGY    0.620641\n",
       "T559    0.000000\n",
       "V5R0    0.583300\n",
       "W62B    0.413261\n",
       "WHBI    0.478612\n",
       "WLQ6    0.517499\n",
       "Name: Junk, dtype: float64"
      ]
     },
     "execution_count": 40,
     "metadata": {},
     "output_type": "execute_result"
    }
   ],
   "source": [
    "all_data.groupby(\"PlotType\")[\"Junk\"].mean()"
   ]
  },
  {
   "cell_type": "code",
   "execution_count": 41,
   "metadata": {},
   "outputs": [
    {
     "data": {
      "text/html": [
       "<div>\n",
       "<style scoped>\n",
       "    .dataframe tbody tr th:only-of-type {\n",
       "        vertical-align: middle;\n",
       "    }\n",
       "\n",
       "    .dataframe tbody tr th {\n",
       "        vertical-align: top;\n",
       "    }\n",
       "\n",
       "    .dataframe thead th {\n",
       "        text-align: right;\n",
       "    }\n",
       "</style>\n",
       "<table border=\"1\" class=\"dataframe\">\n",
       "  <thead>\n",
       "    <tr style=\"text-align: right;\">\n",
       "      <th></th>\n",
       "      <th>Junk</th>\n",
       "      <th>ListDate</th>\n",
       "      <th>Material</th>\n",
       "      <th>Agency</th>\n",
       "      <th>InsurancePremiumIndex</th>\n",
       "      <th>PlotType</th>\n",
       "      <th>Architecture</th>\n",
       "      <th>Facade</th>\n",
       "      <th>State</th>\n",
       "      <th>PropertyAge</th>\n",
       "      <th>data</th>\n",
       "      <th>PriceIndex</th>\n",
       "      <th>InteriorsStyle_freq</th>\n",
       "      <th>SubModel_freq</th>\n",
       "      <th>PRIMEUNIT_NO</th>\n",
       "      <th>EnvRating_green</th>\n",
       "      <th>Channel_Agent</th>\n",
       "      <th>AreaIncomeType_B</th>\n",
       "      <th>Region_A</th>\n",
       "      <th>RegionType_A</th>\n",
       "    </tr>\n",
       "  </thead>\n",
       "  <tbody>\n",
       "    <tr>\n",
       "      <th>9063</th>\n",
       "      <td>1.0</td>\n",
       "      <td>11/4/2009</td>\n",
       "      <td>RRJQ</td>\n",
       "      <td>OTHER</td>\n",
       "      <td>1508</td>\n",
       "      <td>32T2</td>\n",
       "      <td>4GZ4</td>\n",
       "      <td>SILVER</td>\n",
       "      <td>CA</td>\n",
       "      <td>4</td>\n",
       "      <td>train</td>\n",
       "      <td>7669.000000</td>\n",
       "      <td>293.0</td>\n",
       "      <td>649.0</td>\n",
       "      <td>0</td>\n",
       "      <td>0</td>\n",
       "      <td>0</td>\n",
       "      <td>0</td>\n",
       "      <td>1</td>\n",
       "      <td>0</td>\n",
       "    </tr>\n",
       "    <tr>\n",
       "      <th>51884</th>\n",
       "      <td>1.0</td>\n",
       "      <td>2/2/2010</td>\n",
       "      <td>PRN0</td>\n",
       "      <td>CAT1</td>\n",
       "      <td>2508</td>\n",
       "      <td>WHBI</td>\n",
       "      <td>YIK5</td>\n",
       "      <td>GOLD</td>\n",
       "      <td>TX</td>\n",
       "      <td>8</td>\n",
       "      <td>train</td>\n",
       "      <td>3992.444444</td>\n",
       "      <td>920.0</td>\n",
       "      <td>24847.0</td>\n",
       "      <td>0</td>\n",
       "      <td>0</td>\n",
       "      <td>1</td>\n",
       "      <td>1</td>\n",
       "      <td>1</td>\n",
       "      <td>1</td>\n",
       "    </tr>\n",
       "    <tr>\n",
       "      <th>14687</th>\n",
       "      <td>1.0</td>\n",
       "      <td>12/1/2010</td>\n",
       "      <td>DJOP</td>\n",
       "      <td>CAT3</td>\n",
       "      <td>1197</td>\n",
       "      <td>V5R0</td>\n",
       "      <td>I3Z9</td>\n",
       "      <td>BLUE</td>\n",
       "      <td>VA</td>\n",
       "      <td>5</td>\n",
       "      <td>train</td>\n",
       "      <td>13474.555556</td>\n",
       "      <td>541.0</td>\n",
       "      <td>218.0</td>\n",
       "      <td>0</td>\n",
       "      <td>0</td>\n",
       "      <td>1</td>\n",
       "      <td>0</td>\n",
       "      <td>1</td>\n",
       "      <td>1</td>\n",
       "    </tr>\n",
       "    <tr>\n",
       "      <th>21441</th>\n",
       "      <td>1.0</td>\n",
       "      <td>9/25/2009</td>\n",
       "      <td>GG8E</td>\n",
       "      <td>CAT2</td>\n",
       "      <td>1673</td>\n",
       "      <td>WHBI</td>\n",
       "      <td>AVYP</td>\n",
       "      <td>SILVER</td>\n",
       "      <td>CA</td>\n",
       "      <td>7</td>\n",
       "      <td>train</td>\n",
       "      <td>3416.333333</td>\n",
       "      <td>49.0</td>\n",
       "      <td>44.0</td>\n",
       "      <td>0</td>\n",
       "      <td>0</td>\n",
       "      <td>1</td>\n",
       "      <td>0</td>\n",
       "      <td>1</td>\n",
       "      <td>1</td>\n",
       "    </tr>\n",
       "    <tr>\n",
       "      <th>9842</th>\n",
       "      <td>1.0</td>\n",
       "      <td>2/25/2010</td>\n",
       "      <td>H5XT</td>\n",
       "      <td>OTHER</td>\n",
       "      <td>671</td>\n",
       "      <td>WHBI</td>\n",
       "      <td>8SPA</td>\n",
       "      <td>BLUE</td>\n",
       "      <td>CO</td>\n",
       "      <td>4</td>\n",
       "      <td>train</td>\n",
       "      <td>9179.000000</td>\n",
       "      <td>378.0</td>\n",
       "      <td>798.0</td>\n",
       "      <td>0</td>\n",
       "      <td>0</td>\n",
       "      <td>0</td>\n",
       "      <td>0</td>\n",
       "      <td>1</td>\n",
       "      <td>0</td>\n",
       "    </tr>\n",
       "  </tbody>\n",
       "</table>\n",
       "</div>"
      ],
      "text/plain": [
       "       Junk   ListDate Material Agency  InsurancePremiumIndex PlotType  \\\n",
       "9063    1.0  11/4/2009     RRJQ  OTHER                   1508     32T2   \n",
       "51884   1.0   2/2/2010     PRN0   CAT1                   2508     WHBI   \n",
       "14687   1.0  12/1/2010     DJOP   CAT3                   1197     V5R0   \n",
       "21441   1.0  9/25/2009     GG8E   CAT2                   1673     WHBI   \n",
       "9842    1.0  2/25/2010     H5XT  OTHER                    671     WHBI   \n",
       "\n",
       "      Architecture  Facade State  PropertyAge   data    PriceIndex  \\\n",
       "9063          4GZ4  SILVER    CA            4  train   7669.000000   \n",
       "51884         YIK5    GOLD    TX            8  train   3992.444444   \n",
       "14687         I3Z9    BLUE    VA            5  train  13474.555556   \n",
       "21441         AVYP  SILVER    CA            7  train   3416.333333   \n",
       "9842          8SPA    BLUE    CO            4  train   9179.000000   \n",
       "\n",
       "       InteriorsStyle_freq  SubModel_freq  PRIMEUNIT_NO  EnvRating_green  \\\n",
       "9063                 293.0          649.0             0                0   \n",
       "51884                920.0        24847.0             0                0   \n",
       "14687                541.0          218.0             0                0   \n",
       "21441                 49.0           44.0             0                0   \n",
       "9842                 378.0          798.0             0                0   \n",
       "\n",
       "       Channel_Agent  AreaIncomeType_B  Region_A  RegionType_A  \n",
       "9063               0                 0         1             0  \n",
       "51884              1                 1         1             1  \n",
       "14687              1                 0         1             1  \n",
       "21441              1                 0         1             1  \n",
       "9842               0                 0         1             0  "
      ]
     },
     "execution_count": 41,
     "metadata": {},
     "output_type": "execute_result"
    }
   ],
   "source": [
    "all_data.head()"
   ]
  },
  {
   "cell_type": "code",
   "execution_count": 42,
   "metadata": {},
   "outputs": [
    {
     "data": {
      "text/plain": [
       "Junk                     float64\n",
       "ListDate                  object\n",
       "Material                  object\n",
       "Agency                    object\n",
       "InsurancePremiumIndex      int64\n",
       "PlotType                  object\n",
       "Architecture              object\n",
       "Facade                    object\n",
       "State                     object\n",
       "PropertyAge                int64\n",
       "data                      object\n",
       "PriceIndex               float64\n",
       "InteriorsStyle_freq      float64\n",
       "SubModel_freq            float64\n",
       "PRIMEUNIT_NO               int32\n",
       "EnvRating_green            int32\n",
       "Channel_Agent              int32\n",
       "AreaIncomeType_B           int32\n",
       "Region_A                   int32\n",
       "RegionType_A               int32\n",
       "dtype: object"
      ]
     },
     "execution_count": 42,
     "metadata": {},
     "output_type": "execute_result"
    }
   ],
   "source": [
    "all_data.dtypes"
   ]
  },
  {
   "cell_type": "code",
   "execution_count": 43,
   "metadata": {},
   "outputs": [
    {
     "data": {
      "text/html": [
       "<div>\n",
       "<style scoped>\n",
       "    .dataframe tbody tr th:only-of-type {\n",
       "        vertical-align: middle;\n",
       "    }\n",
       "\n",
       "    .dataframe tbody tr th {\n",
       "        vertical-align: top;\n",
       "    }\n",
       "\n",
       "    .dataframe thead th {\n",
       "        text-align: right;\n",
       "    }\n",
       "</style>\n",
       "<table border=\"1\" class=\"dataframe\">\n",
       "  <thead>\n",
       "    <tr style=\"text-align: right;\">\n",
       "      <th></th>\n",
       "      <th>State</th>\n",
       "      <th>Junk</th>\n",
       "    </tr>\n",
       "  </thead>\n",
       "  <tbody>\n",
       "    <tr>\n",
       "      <th>0</th>\n",
       "      <td>AL</td>\n",
       "      <td>0.494118</td>\n",
       "    </tr>\n",
       "    <tr>\n",
       "      <th>1</th>\n",
       "      <td>AR</td>\n",
       "      <td>0.666667</td>\n",
       "    </tr>\n",
       "    <tr>\n",
       "      <th>2</th>\n",
       "      <td>AZ</td>\n",
       "      <td>0.474176</td>\n",
       "    </tr>\n",
       "    <tr>\n",
       "      <th>3</th>\n",
       "      <td>CA</td>\n",
       "      <td>0.529800</td>\n",
       "    </tr>\n",
       "    <tr>\n",
       "      <th>4</th>\n",
       "      <td>CO</td>\n",
       "      <td>0.494421</td>\n",
       "    </tr>\n",
       "    <tr>\n",
       "      <th>5</th>\n",
       "      <td>FL</td>\n",
       "      <td>0.474448</td>\n",
       "    </tr>\n",
       "    <tr>\n",
       "      <th>6</th>\n",
       "      <td>GA</td>\n",
       "      <td>0.469282</td>\n",
       "    </tr>\n",
       "    <tr>\n",
       "      <th>7</th>\n",
       "      <td>IA</td>\n",
       "      <td>0.549628</td>\n",
       "    </tr>\n",
       "    <tr>\n",
       "      <th>8</th>\n",
       "      <td>ID</td>\n",
       "      <td>0.433198</td>\n",
       "    </tr>\n",
       "    <tr>\n",
       "      <th>9</th>\n",
       "      <td>IL</td>\n",
       "      <td>0.533333</td>\n",
       "    </tr>\n",
       "    <tr>\n",
       "      <th>10</th>\n",
       "      <td>IN</td>\n",
       "      <td>0.550868</td>\n",
       "    </tr>\n",
       "    <tr>\n",
       "      <th>11</th>\n",
       "      <td>KY</td>\n",
       "      <td>0.278431</td>\n",
       "    </tr>\n",
       "    <tr>\n",
       "      <th>12</th>\n",
       "      <td>LA</td>\n",
       "      <td>0.544484</td>\n",
       "    </tr>\n",
       "    <tr>\n",
       "      <th>13</th>\n",
       "      <td>MA</td>\n",
       "      <td>0.437500</td>\n",
       "    </tr>\n",
       "    <tr>\n",
       "      <th>14</th>\n",
       "      <td>MD</td>\n",
       "      <td>0.532100</td>\n",
       "    </tr>\n",
       "    <tr>\n",
       "      <th>15</th>\n",
       "      <td>MI</td>\n",
       "      <td>0.473684</td>\n",
       "    </tr>\n",
       "    <tr>\n",
       "      <th>16</th>\n",
       "      <td>MN</td>\n",
       "      <td>0.157895</td>\n",
       "    </tr>\n",
       "    <tr>\n",
       "      <th>17</th>\n",
       "      <td>MO</td>\n",
       "      <td>0.457707</td>\n",
       "    </tr>\n",
       "    <tr>\n",
       "      <th>18</th>\n",
       "      <td>MS</td>\n",
       "      <td>0.418569</td>\n",
       "    </tr>\n",
       "    <tr>\n",
       "      <th>19</th>\n",
       "      <td>NC</td>\n",
       "      <td>0.474905</td>\n",
       "    </tr>\n",
       "    <tr>\n",
       "      <th>20</th>\n",
       "      <td>NE</td>\n",
       "      <td>0.413793</td>\n",
       "    </tr>\n",
       "    <tr>\n",
       "      <th>21</th>\n",
       "      <td>NH</td>\n",
       "      <td>0.453237</td>\n",
       "    </tr>\n",
       "    <tr>\n",
       "      <th>22</th>\n",
       "      <td>NJ</td>\n",
       "      <td>0.513026</td>\n",
       "    </tr>\n",
       "    <tr>\n",
       "      <th>23</th>\n",
       "      <td>NM</td>\n",
       "      <td>0.515235</td>\n",
       "    </tr>\n",
       "    <tr>\n",
       "      <th>24</th>\n",
       "      <td>NV</td>\n",
       "      <td>0.576396</td>\n",
       "    </tr>\n",
       "    <tr>\n",
       "      <th>25</th>\n",
       "      <td>NY</td>\n",
       "      <td>0.000000</td>\n",
       "    </tr>\n",
       "    <tr>\n",
       "      <th>26</th>\n",
       "      <td>OH</td>\n",
       "      <td>0.401141</td>\n",
       "    </tr>\n",
       "    <tr>\n",
       "      <th>27</th>\n",
       "      <td>OK</td>\n",
       "      <td>0.427813</td>\n",
       "    </tr>\n",
       "    <tr>\n",
       "      <th>28</th>\n",
       "      <td>OR</td>\n",
       "      <td>0.302128</td>\n",
       "    </tr>\n",
       "    <tr>\n",
       "      <th>29</th>\n",
       "      <td>PA</td>\n",
       "      <td>0.595603</td>\n",
       "    </tr>\n",
       "    <tr>\n",
       "      <th>30</th>\n",
       "      <td>SC</td>\n",
       "      <td>0.524099</td>\n",
       "    </tr>\n",
       "    <tr>\n",
       "      <th>31</th>\n",
       "      <td>TN</td>\n",
       "      <td>0.468304</td>\n",
       "    </tr>\n",
       "    <tr>\n",
       "      <th>32</th>\n",
       "      <td>TX</td>\n",
       "      <td>0.534579</td>\n",
       "    </tr>\n",
       "    <tr>\n",
       "      <th>33</th>\n",
       "      <td>UT</td>\n",
       "      <td>0.500387</td>\n",
       "    </tr>\n",
       "    <tr>\n",
       "      <th>34</th>\n",
       "      <td>VA</td>\n",
       "      <td>0.571688</td>\n",
       "    </tr>\n",
       "    <tr>\n",
       "      <th>35</th>\n",
       "      <td>WA</td>\n",
       "      <td>0.294872</td>\n",
       "    </tr>\n",
       "    <tr>\n",
       "      <th>36</th>\n",
       "      <td>WV</td>\n",
       "      <td>0.434010</td>\n",
       "    </tr>\n",
       "  </tbody>\n",
       "</table>\n",
       "</div>"
      ],
      "text/plain": [
       "   State      Junk\n",
       "0     AL  0.494118\n",
       "1     AR  0.666667\n",
       "2     AZ  0.474176\n",
       "3     CA  0.529800\n",
       "4     CO  0.494421\n",
       "5     FL  0.474448\n",
       "6     GA  0.469282\n",
       "7     IA  0.549628\n",
       "8     ID  0.433198\n",
       "9     IL  0.533333\n",
       "10    IN  0.550868\n",
       "11    KY  0.278431\n",
       "12    LA  0.544484\n",
       "13    MA  0.437500\n",
       "14    MD  0.532100\n",
       "15    MI  0.473684\n",
       "16    MN  0.157895\n",
       "17    MO  0.457707\n",
       "18    MS  0.418569\n",
       "19    NC  0.474905\n",
       "20    NE  0.413793\n",
       "21    NH  0.453237\n",
       "22    NJ  0.513026\n",
       "23    NM  0.515235\n",
       "24    NV  0.576396\n",
       "25    NY  0.000000\n",
       "26    OH  0.401141\n",
       "27    OK  0.427813\n",
       "28    OR  0.302128\n",
       "29    PA  0.595603\n",
       "30    SC  0.524099\n",
       "31    TN  0.468304\n",
       "32    TX  0.534579\n",
       "33    UT  0.500387\n",
       "34    VA  0.571688\n",
       "35    WA  0.294872\n",
       "36    WV  0.434010"
      ]
     },
     "execution_count": 43,
     "metadata": {},
     "output_type": "execute_result"
    }
   ],
   "source": [
    "all_data.groupby(\"State\")[\"Junk\"].mean().reset_index()"
   ]
  },
  {
   "cell_type": "code",
   "execution_count": 44,
   "metadata": {},
   "outputs": [],
   "source": [
    "all_data['State_1'] = np.where(all_data.isin(['AL','AZ','CA','CO','FL','GA','MD','NC','NJ','NM','TN','UT'])['State'], 1, 0)\n",
    "all_data['State_2'] = np.where(all_data.isin(['IA','IL','IN','LA','NV','SC','TX','VA'])['State'], 1 , 0)\n",
    "all_data['State_3'] = np.where(all_data.isin(['ID','MA','MI','MO','MS','OH','OK','WV'])['State'], 1 , 0)\n",
    "all_data['State_4'] = np.where(all_data.isin(['KY','MN','NE','NH','NY','OR','WA'])['State'], 1 , 0)\n",
    "all_data['State_5'] = np.where(all_data.isin(['AR','PA'])['State'], 1 , 0)"
   ]
  },
  {
   "cell_type": "code",
   "execution_count": 52,
   "metadata": {},
   "outputs": [],
   "source": [
    "all_data.drop(['State'] , axis=1, inplace=True)"
   ]
  },
  {
   "cell_type": "code",
   "execution_count": 53,
   "metadata": {},
   "outputs": [
    {
     "data": {
      "text/html": [
       "<div>\n",
       "<style scoped>\n",
       "    .dataframe tbody tr th:only-of-type {\n",
       "        vertical-align: middle;\n",
       "    }\n",
       "\n",
       "    .dataframe tbody tr th {\n",
       "        vertical-align: top;\n",
       "    }\n",
       "\n",
       "    .dataframe thead th {\n",
       "        text-align: right;\n",
       "    }\n",
       "</style>\n",
       "<table border=\"1\" class=\"dataframe\">\n",
       "  <thead>\n",
       "    <tr style=\"text-align: right;\">\n",
       "      <th></th>\n",
       "      <th>Agency</th>\n",
       "      <th>Junk</th>\n",
       "    </tr>\n",
       "  </thead>\n",
       "  <tbody>\n",
       "    <tr>\n",
       "      <th>0</th>\n",
       "      <td>CAT1</td>\n",
       "      <td>0.460805</td>\n",
       "    </tr>\n",
       "    <tr>\n",
       "      <th>1</th>\n",
       "      <td>CAT2</td>\n",
       "      <td>0.486332</td>\n",
       "    </tr>\n",
       "    <tr>\n",
       "      <th>2</th>\n",
       "      <td>CAT3</td>\n",
       "      <td>0.572162</td>\n",
       "    </tr>\n",
       "    <tr>\n",
       "      <th>3</th>\n",
       "      <td>OTHER</td>\n",
       "      <td>0.520400</td>\n",
       "    </tr>\n",
       "  </tbody>\n",
       "</table>\n",
       "</div>"
      ],
      "text/plain": [
       "  Agency      Junk\n",
       "0   CAT1  0.460805\n",
       "1   CAT2  0.486332\n",
       "2   CAT3  0.572162\n",
       "3  OTHER  0.520400"
      ]
     },
     "execution_count": 53,
     "metadata": {},
     "output_type": "execute_result"
    }
   ],
   "source": [
    "all_data.groupby(\"Agency\")[\"Junk\"].mean().reset_index()"
   ]
  },
  {
   "cell_type": "code",
   "execution_count": 54,
   "metadata": {},
   "outputs": [],
   "source": [
    "all_data['Agency_CAT_1_2']   = np.where(np.logical_or(all_data['Agency']=='CAT1', all_data['Agency']=='CAT2') , 1, 0)\n",
    "all_data['Agency_CAT_3']     = np.where(all_data['Agency']=='CAT3', 1, 0)"
   ]
  },
  {
   "cell_type": "code",
   "execution_count": 55,
   "metadata": {},
   "outputs": [],
   "source": [
    "all_data.drop(['Agency'] , axis=1, inplace=True)"
   ]
  },
  {
   "cell_type": "code",
   "execution_count": 56,
   "metadata": {},
   "outputs": [],
   "source": [
    "#all_data.groupby(\"PlotType\")[\"Junk\"].mean().reset_index()"
   ]
  },
  {
   "cell_type": "code",
   "execution_count": 57,
   "metadata": {},
   "outputs": [],
   "source": [
    "all_data['PlotType_1'] = np.where(all_data.isin(['32T2','8FRL','DIJX','DJOP','LIGY','V5R0','WLQ6'])['PlotType'], 1, 0)\n",
    "all_data['PlotType_2'] = np.where(all_data.isin(['WHBI','W62B','T559','I00H','DSSM','7RBQ'])['PlotType'], 1 , 0)"
   ]
  },
  {
   "cell_type": "code",
   "execution_count": 58,
   "metadata": {},
   "outputs": [],
   "source": [
    "#all_data.groupby(\"Architecture\")[\"Junk\"].mean().reset_index()"
   ]
  },
  {
   "cell_type": "code",
   "execution_count": 59,
   "metadata": {},
   "outputs": [],
   "source": [
    "all_data['Architecture_1'] = np.where(all_data.isin(['XDZM', 'W86R', 'BOLF', 'OYQM', 'PQP2',\n",
    "                                                     'AZHP', 'O8PU', 'STJH','GHDG','CR4E'])['Architecture'], 1, 0)\n",
    "all_data['Architecture_2'] = np.where(all_data.isin(['X120','RZOR','RIAX','KML6','K92H','I3Z9','FCXM','AVYP', '8SPA', '7IYX'])['Architecture'], 1 , 0)\n",
    "all_data['Architecture_3'] = np.where(all_data.isin(['WWBR','YIK5','TP7R','M3C0','DKOO','5NBT','5A9R', '4GZ4', '1M5X', '1IKD'])['Architecture'], 1 , 0)\n",
    "all_data['Architecture_4'] = np.where(all_data.isin(['R0QP','OJBM', '2MTV'])['Architecture'], 1 , 0)"
   ]
  },
  {
   "cell_type": "code",
   "execution_count": 60,
   "metadata": {},
   "outputs": [],
   "source": [
    "all_data.drop(['Architecture', 'PlotType', 'Facade', 'Material', 'ListDate'] , axis=1, inplace=True)"
   ]
  },
  {
   "cell_type": "code",
   "execution_count": 61,
   "metadata": {},
   "outputs": [
    {
     "data": {
      "text/plain": [
       "Junk                     float64\n",
       "InsurancePremiumIndex      int64\n",
       "PropertyAge                int64\n",
       "data                      object\n",
       "PriceIndex               float64\n",
       "InteriorsStyle_freq      float64\n",
       "SubModel_freq            float64\n",
       "PRIMEUNIT_NO               int32\n",
       "EnvRating_green            int32\n",
       "Channel_Agent              int32\n",
       "AreaIncomeType_B           int32\n",
       "Region_A                   int32\n",
       "RegionType_A               int32\n",
       "Agency_CAT_1_2             int32\n",
       "Agency_CAT_3               int32\n",
       "PlotType_1                 int32\n",
       "PlotType_2                 int32\n",
       "Architecture_1             int32\n",
       "Architecture_2             int32\n",
       "Architecture_3             int32\n",
       "Architecture_4             int32\n",
       "dtype: object"
      ]
     },
     "execution_count": 61,
     "metadata": {},
     "output_type": "execute_result"
    }
   ],
   "source": [
    "all_data.dtypes"
   ]
  },
  {
   "cell_type": "code",
   "execution_count": 62,
   "metadata": {},
   "outputs": [
    {
     "data": {
      "text/plain": [
       "Junk                     10948\n",
       "InsurancePremiumIndex        0\n",
       "PropertyAge                  0\n",
       "data                         0\n",
       "PriceIndex                   0\n",
       "InteriorsStyle_freq          0\n",
       "SubModel_freq                0\n",
       "PRIMEUNIT_NO                 0\n",
       "EnvRating_green              0\n",
       "Channel_Agent                0\n",
       "AreaIncomeType_B             0\n",
       "Region_A                     0\n",
       "RegionType_A                 0\n",
       "Agency_CAT_1_2               0\n",
       "Agency_CAT_3                 0\n",
       "PlotType_1                   0\n",
       "PlotType_2                   0\n",
       "Architecture_1               0\n",
       "Architecture_2               0\n",
       "Architecture_3               0\n",
       "Architecture_4               0\n",
       "dtype: int64"
      ]
     },
     "execution_count": 62,
     "metadata": {},
     "output_type": "execute_result"
    }
   ],
   "source": [
    "all_data.isnull().sum()"
   ]
  },
  {
   "cell_type": "code",
   "execution_count": 63,
   "metadata": {},
   "outputs": [
    {
     "data": {
      "text/plain": [
       "Index(['data'], dtype='object')"
      ]
     },
     "execution_count": 63,
     "metadata": {},
     "output_type": "execute_result"
    }
   ],
   "source": [
    "all_data.select_dtypes('object').columns"
   ]
  },
  {
   "cell_type": "code",
   "execution_count": 64,
   "metadata": {},
   "outputs": [],
   "source": [
    "train_data = all_data[all_data['data'] == 'train']\n",
    "test_data = all_data[all_data['data'] == 'test']"
   ]
  },
  {
   "cell_type": "code",
   "execution_count": 65,
   "metadata": {},
   "outputs": [],
   "source": [
    "del all_data\n",
    "del train_data['data']\n",
    "del test_data['data']\n",
    "del test_data['Junk']"
   ]
  },
  {
   "cell_type": "code",
   "execution_count": 66,
   "metadata": {},
   "outputs": [
    {
     "data": {
      "text/html": [
       "<div>\n",
       "<style scoped>\n",
       "    .dataframe tbody tr th:only-of-type {\n",
       "        vertical-align: middle;\n",
       "    }\n",
       "\n",
       "    .dataframe tbody tr th {\n",
       "        vertical-align: top;\n",
       "    }\n",
       "\n",
       "    .dataframe thead th {\n",
       "        text-align: right;\n",
       "    }\n",
       "</style>\n",
       "<table border=\"1\" class=\"dataframe\">\n",
       "  <thead>\n",
       "    <tr style=\"text-align: right;\">\n",
       "      <th></th>\n",
       "      <th>InsurancePremiumIndex</th>\n",
       "      <th>PropertyAge</th>\n",
       "      <th>PriceIndex</th>\n",
       "      <th>InteriorsStyle_freq</th>\n",
       "      <th>SubModel_freq</th>\n",
       "      <th>PRIMEUNIT_NO</th>\n",
       "      <th>EnvRating_green</th>\n",
       "      <th>Channel_Agent</th>\n",
       "      <th>AreaIncomeType_B</th>\n",
       "      <th>Region_A</th>\n",
       "      <th>RegionType_A</th>\n",
       "      <th>Agency_CAT_1_2</th>\n",
       "      <th>Agency_CAT_3</th>\n",
       "      <th>PlotType_1</th>\n",
       "      <th>PlotType_2</th>\n",
       "      <th>Architecture_1</th>\n",
       "      <th>Architecture_2</th>\n",
       "      <th>Architecture_3</th>\n",
       "      <th>Architecture_4</th>\n",
       "    </tr>\n",
       "  </thead>\n",
       "  <tbody>\n",
       "    <tr>\n",
       "      <th>51677</th>\n",
       "      <td>1038</td>\n",
       "      <td>4</td>\n",
       "      <td>8409.222222</td>\n",
       "      <td>1589.0</td>\n",
       "      <td>6678.0</td>\n",
       "      <td>0</td>\n",
       "      <td>0</td>\n",
       "      <td>0</td>\n",
       "      <td>1</td>\n",
       "      <td>1</td>\n",
       "      <td>1</td>\n",
       "      <td>1</td>\n",
       "      <td>0</td>\n",
       "      <td>0</td>\n",
       "      <td>1</td>\n",
       "      <td>0</td>\n",
       "      <td>0</td>\n",
       "      <td>1</td>\n",
       "      <td>0</td>\n",
       "    </tr>\n",
       "    <tr>\n",
       "      <th>58520</th>\n",
       "      <td>1065</td>\n",
       "      <td>6</td>\n",
       "      <td>3585.888889</td>\n",
       "      <td>708.0</td>\n",
       "      <td>770.0</td>\n",
       "      <td>0</td>\n",
       "      <td>0</td>\n",
       "      <td>0</td>\n",
       "      <td>0</td>\n",
       "      <td>1</td>\n",
       "      <td>1</td>\n",
       "      <td>1</td>\n",
       "      <td>0</td>\n",
       "      <td>1</td>\n",
       "      <td>0</td>\n",
       "      <td>0</td>\n",
       "      <td>0</td>\n",
       "      <td>1</td>\n",
       "      <td>0</td>\n",
       "    </tr>\n",
       "    <tr>\n",
       "      <th>25963</th>\n",
       "      <td>983</td>\n",
       "      <td>3</td>\n",
       "      <td>8726.111111</td>\n",
       "      <td>2107.0</td>\n",
       "      <td>3309.0</td>\n",
       "      <td>0</td>\n",
       "      <td>0</td>\n",
       "      <td>0</td>\n",
       "      <td>1</td>\n",
       "      <td>1</td>\n",
       "      <td>1</td>\n",
       "      <td>1</td>\n",
       "      <td>0</td>\n",
       "      <td>0</td>\n",
       "      <td>1</td>\n",
       "      <td>0</td>\n",
       "      <td>0</td>\n",
       "      <td>1</td>\n",
       "      <td>0</td>\n",
       "    </tr>\n",
       "    <tr>\n",
       "      <th>36662</th>\n",
       "      <td>1341</td>\n",
       "      <td>2</td>\n",
       "      <td>9817.666667</td>\n",
       "      <td>1551.0</td>\n",
       "      <td>1782.0</td>\n",
       "      <td>0</td>\n",
       "      <td>0</td>\n",
       "      <td>0</td>\n",
       "      <td>1</td>\n",
       "      <td>1</td>\n",
       "      <td>1</td>\n",
       "      <td>1</td>\n",
       "      <td>0</td>\n",
       "      <td>0</td>\n",
       "      <td>1</td>\n",
       "      <td>0</td>\n",
       "      <td>1</td>\n",
       "      <td>0</td>\n",
       "      <td>0</td>\n",
       "    </tr>\n",
       "    <tr>\n",
       "      <th>29298</th>\n",
       "      <td>623</td>\n",
       "      <td>2</td>\n",
       "      <td>7714.555556</td>\n",
       "      <td>771.0</td>\n",
       "      <td>71.0</td>\n",
       "      <td>0</td>\n",
       "      <td>0</td>\n",
       "      <td>0</td>\n",
       "      <td>1</td>\n",
       "      <td>1</td>\n",
       "      <td>1</td>\n",
       "      <td>1</td>\n",
       "      <td>0</td>\n",
       "      <td>1</td>\n",
       "      <td>0</td>\n",
       "      <td>0</td>\n",
       "      <td>0</td>\n",
       "      <td>1</td>\n",
       "      <td>0</td>\n",
       "    </tr>\n",
       "  </tbody>\n",
       "</table>\n",
       "</div>"
      ],
      "text/plain": [
       "       InsurancePremiumIndex  PropertyAge   PriceIndex  InteriorsStyle_freq  \\\n",
       "51677                   1038            4  8409.222222               1589.0   \n",
       "58520                   1065            6  3585.888889                708.0   \n",
       "25963                    983            3  8726.111111               2107.0   \n",
       "36662                   1341            2  9817.666667               1551.0   \n",
       "29298                    623            2  7714.555556                771.0   \n",
       "\n",
       "       SubModel_freq  PRIMEUNIT_NO  EnvRating_green  Channel_Agent  \\\n",
       "51677         6678.0             0                0              0   \n",
       "58520          770.0             0                0              0   \n",
       "25963         3309.0             0                0              0   \n",
       "36662         1782.0             0                0              0   \n",
       "29298           71.0             0                0              0   \n",
       "\n",
       "       AreaIncomeType_B  Region_A  RegionType_A  Agency_CAT_1_2  Agency_CAT_3  \\\n",
       "51677                 1         1             1               1             0   \n",
       "58520                 0         1             1               1             0   \n",
       "25963                 1         1             1               1             0   \n",
       "36662                 1         1             1               1             0   \n",
       "29298                 1         1             1               1             0   \n",
       "\n",
       "       PlotType_1  PlotType_2  Architecture_1  Architecture_2  Architecture_3  \\\n",
       "51677           0           1               0               0               1   \n",
       "58520           1           0               0               0               1   \n",
       "25963           0           1               0               0               1   \n",
       "36662           0           1               0               1               0   \n",
       "29298           1           0               0               0               1   \n",
       "\n",
       "       Architecture_4  \n",
       "51677               0  \n",
       "58520               0  \n",
       "25963               0  \n",
       "36662               0  \n",
       "29298               0  "
      ]
     },
     "execution_count": 66,
     "metadata": {},
     "output_type": "execute_result"
    }
   ],
   "source": [
    "train_feature=train_data.drop(['Junk'], axis=1)\n",
    "train_feature.head()"
   ]
  },
  {
   "cell_type": "code",
   "execution_count": 67,
   "metadata": {},
   "outputs": [
    {
     "data": {
      "text/plain": [
       "51677    1.0\n",
       "58520    1.0\n",
       "25963    1.0\n",
       "36662    1.0\n",
       "29298    1.0\n",
       "Name: Junk, dtype: float64"
      ]
     },
     "execution_count": 67,
     "metadata": {},
     "output_type": "execute_result"
    }
   ],
   "source": [
    "train_target=train_data['Junk']\n",
    "train_target.head()"
   ]
  },
  {
   "cell_type": "code",
   "execution_count": 68,
   "metadata": {},
   "outputs": [],
   "source": [
    "#importing all the required ML packages\n",
    "from sklearn.linear_model import LogisticRegression #logistic regression\n",
    "from sklearn.ensemble import RandomForestClassifier #Random Forest\n",
    "from sklearn.naive_bayes import GaussianNB #Naive bayes\n",
    "from sklearn.tree import DecisionTreeClassifier #Decision Tree\n",
    "from sklearn.model_selection import train_test_split #training and testing data split\n",
    "from sklearn import metrics #accuracy measure\n",
    "from sklearn.metrics import confusion_matrix #for confusion matrix\n",
    "from sklearn.metrics import roc_auc_score \n",
    "from sklearn.metrics import roc_curve"
   ]
  },
  {
   "cell_type": "code",
   "execution_count": 69,
   "metadata": {},
   "outputs": [],
   "source": [
    "X_train, X_test,y_train, y_test= train_test_split(train_feature,train_target,test_size=0.3,\n",
    "                                                  random_state=0)"
   ]
  },
  {
   "cell_type": "code",
   "execution_count": 73,
   "metadata": {},
   "outputs": [
    {
     "name": "stdout",
     "output_type": "stream",
     "text": [
      "(76206, 19) (32660, 19) (76206,) (32660,)\n"
     ]
    }
   ],
   "source": [
    "print(X_train.shape,  X_test.shape,  y_train.shape,  y_test.shape)"
   ]
  },
  {
   "cell_type": "code",
   "execution_count": 71,
   "metadata": {},
   "outputs": [],
   "source": [
    "# I keep a copy of the dataset with all the variables\n",
    "# to measure the performance of machine learning models\n",
    "# at the end of the notebook\n",
    "\n",
    "X_train_original = X_train.copy()\n",
    "X_test_original = X_test.copy()"
   ]
  },
  {
   "cell_type": "markdown",
   "metadata": {},
   "source": [
    "Remove constant features¶"
   ]
  },
  {
   "cell_type": "code",
   "execution_count": 72,
   "metadata": {},
   "outputs": [
    {
     "name": "stderr",
     "output_type": "stream",
     "text": [
      "C:\\Anaconda folder\\lib\\site-packages\\pandas\\core\\frame.py:4163: SettingWithCopyWarning: \n",
      "A value is trying to be set on a copy of a slice from a DataFrame\n",
      "\n",
      "See the caveats in the documentation: https://pandas.pydata.org/pandas-docs/stable/user_guide/indexing.html#returning-a-view-versus-a-copy\n",
      "  return super().drop(\n"
     ]
    },
    {
     "data": {
      "text/plain": [
       "((76206, 19), (32660, 19))"
      ]
     },
     "execution_count": 72,
     "metadata": {},
     "output_type": "execute_result"
    }
   ],
   "source": [
    "# remove constant features\n",
    "constant_features = [\n",
    "    feat for feat in X_train.columns if X_train[feat].std() == 0\n",
    "]\n",
    "\n",
    "X_train.drop(labels=constant_features, axis=1, inplace=True)\n",
    "X_test.drop(labels=constant_features, axis=1, inplace=True)\n",
    "\n",
    "X_train.shape, X_test.shape"
   ]
  },
  {
   "cell_type": "code",
   "execution_count": 74,
   "metadata": {},
   "outputs": [
    {
     "data": {
      "text/plain": [
       "18"
      ]
     },
     "execution_count": 74,
     "metadata": {},
     "output_type": "execute_result"
    }
   ],
   "source": [
    "from sklearn.feature_selection import VarianceThreshold\n",
    "# remove quasi-constant features\n",
    "sel = VarianceThreshold(\n",
    "    threshold=0.01)  # 0.1 indicates 99% of observations approximately\n",
    "\n",
    "sel.fit(X_train)  # fit finds the features with low variance\n",
    "\n",
    "sum(sel.get_support()) # how many not quasi-constant?"
   ]
  },
  {
   "cell_type": "code",
   "execution_count": 75,
   "metadata": {},
   "outputs": [],
   "source": [
    "features_to_keep = X_train.columns[sel.get_support()]"
   ]
  },
  {
   "cell_type": "code",
   "execution_count": 76,
   "metadata": {},
   "outputs": [
    {
     "data": {
      "text/plain": [
       "((76206, 18), (32660, 18))"
      ]
     },
     "execution_count": 76,
     "metadata": {},
     "output_type": "execute_result"
    }
   ],
   "source": [
    "# we can then remove the features like this\n",
    "X_train = sel.transform(X_train)\n",
    "X_test = sel.transform(X_test)\n",
    "\n",
    "X_train.shape, X_test.shape"
   ]
  },
  {
   "cell_type": "code",
   "execution_count": 77,
   "metadata": {},
   "outputs": [],
   "source": [
    "# sklearn transformations lead to numpy arrays\n",
    "# here I transform the arrays back to dataframes\n",
    "# please be mindful of getting the columns assigned\n",
    "# correctly\n",
    "X_train= pd.DataFrame(X_train)\n",
    "X_train.columns = features_to_keep\n",
    "\n",
    "X_test= pd.DataFrame(X_test)\n",
    "X_test.columns = features_to_keep"
   ]
  },
  {
   "cell_type": "markdown",
   "metadata": {},
   "source": [
    "Remove duplicated features"
   ]
  },
  {
   "cell_type": "code",
   "execution_count": 78,
   "metadata": {},
   "outputs": [
    {
     "name": "stdout",
     "output_type": "stream",
     "text": [
      "0\n",
      "10\n"
     ]
    },
    {
     "data": {
      "text/plain": [
       "0"
      ]
     },
     "execution_count": 78,
     "metadata": {},
     "output_type": "execute_result"
    }
   ],
   "source": [
    "# check for duplicated features in the training set\n",
    "duplicated_feat = []\n",
    "for i in range(0, len(X_train.columns)):\n",
    "    if i % 10 == 0:  # this helps me understand how the loop is going\n",
    "        print(i)\n",
    "\n",
    "    col_1 = X_train.columns[i]\n",
    "\n",
    "    for col_2 in X_train.columns[i + 1:]:\n",
    "        if X_train[col_1].equals(X_train[col_2]):\n",
    "            duplicated_feat.append(col_2)\n",
    "            \n",
    "len(duplicated_feat)"
   ]
  },
  {
   "cell_type": "code",
   "execution_count": 79,
   "metadata": {},
   "outputs": [],
   "source": [
    "\n",
    "# I keep a copy of the dataset except constant and duplicated variables\n",
    "# to measure the performance of machine learning models\n",
    "# at the end of the notebook\n",
    "\n",
    "X_train_basic_filter = X_train.copy()\n",
    "X_test_basic_filter = X_test.copy()"
   ]
  },
  {
   "cell_type": "markdown",
   "metadata": {},
   "source": [
    "Remove correlated features"
   ]
  },
  {
   "cell_type": "code",
   "execution_count": 80,
   "metadata": {},
   "outputs": [
    {
     "name": "stdout",
     "output_type": "stream",
     "text": [
      "correlated features:  3\n"
     ]
    }
   ],
   "source": [
    "\n",
    "# find and remove correlated features\n",
    "def correlation(dataset, threshold):\n",
    "    col_corr = set()  # Set of all the names of correlated columns\n",
    "    corr_matrix = dataset.corr()\n",
    "    for i in range(len(corr_matrix.columns)):\n",
    "        for j in range(i):\n",
    "            if abs(corr_matrix.iloc[i, j]) > threshold: # we are interested in absolute coeff value\n",
    "                colname = corr_matrix.columns[i]  # getting the name of column\n",
    "                col_corr.add(colname)\n",
    "    return col_corr\n",
    "\n",
    "corr_features = correlation(X_train, 0.8)\n",
    "print('correlated features: ', len(set(corr_features)) )"
   ]
  },
  {
   "cell_type": "code",
   "execution_count": 81,
   "metadata": {},
   "outputs": [
    {
     "data": {
      "text/plain": [
       "((76206, 15), (32660, 15))"
      ]
     },
     "execution_count": 81,
     "metadata": {},
     "output_type": "execute_result"
    }
   ],
   "source": [
    "\n",
    "X_train.drop(labels=corr_features, axis=1, inplace=True)\n",
    "X_test.drop(labels=corr_features, axis=1, inplace=True)\n",
    "\n",
    "X_train.shape, X_test.shape"
   ]
  },
  {
   "cell_type": "code",
   "execution_count": 82,
   "metadata": {},
   "outputs": [
    {
     "data": {
      "text/plain": [
       "Index(['InsurancePremiumIndex', 'PropertyAge', 'PriceIndex',\n",
       "       'InteriorsStyle_freq', 'SubModel_freq', 'PRIMEUNIT_NO', 'Channel_Agent',\n",
       "       'AreaIncomeType_B', 'Region_A', 'RegionType_A', 'Agency_CAT_1_2',\n",
       "       'Agency_CAT_3', 'PlotType_1', 'Architecture_1', 'Architecture_2'],\n",
       "      dtype='object')"
      ]
     },
     "execution_count": 82,
     "metadata": {},
     "output_type": "execute_result"
    }
   ],
   "source": [
    "X_train.columns"
   ]
  },
  {
   "cell_type": "code",
   "execution_count": 75,
   "metadata": {},
   "outputs": [],
   "source": [
    "# create a function to build random forests and compare performance in train and test set\n",
    "\n",
    "def run_randomForests(Xtrain, Xtest, ytrain, ytest):\n",
    "    X_train, X_test = Xtrain.copy(), Xtest.copy()\n",
    "    y_train, y_test = ytrain.copy(), ytest.copy()\n",
    "    rf = RandomForestClassifier(n_estimators=200, random_state=39, max_depth=4)\n",
    "    rf.fit(X_train, y_train)\n",
    "    print('Train set')\n",
    "    pred = rf.predict_proba(X_train)\n",
    "    print('Random Forests roc-auc: {}'.format(roc_auc_score(y_train, pred[:,1])))\n",
    "    print('Test set')\n",
    "    pred = rf.predict_proba(X_test)\n",
    "    print('Random Forests roc-auc: {}'.format(roc_auc_score(y_test, pred[:,1])))"
   ]
  },
  {
   "cell_type": "code",
   "execution_count": 76,
   "metadata": {},
   "outputs": [
    {
     "name": "stdout",
     "output_type": "stream",
     "text": [
      "Train set\n",
      "Random Forests roc-auc: 0.6805276088148167\n",
      "Test set\n",
      "Random Forests roc-auc: 0.6793071693130597\n"
     ]
    }
   ],
   "source": [
    "\n",
    "# original\n",
    "run_randomForests(X_train_original,\n",
    "                  X_test_original,\n",
    "                  y_train, y_test)"
   ]
  },
  {
   "cell_type": "code",
   "execution_count": 79,
   "metadata": {},
   "outputs": [],
   "source": [
    "# create a function to build logistic regression and compare performance in train and test set\n",
    "\n",
    "def run_logistic(X_train, X_test, y_train, y_test):\n",
    "    # function to train and test the performance of logistic regression\n",
    "    logit = LogisticRegression(random_state=44)\n",
    "    logit.fit(X_train, y_train)\n",
    "    print('Train set')\n",
    "    pred = logit.predict_proba(X_train)\n",
    "    print('Logistic Regression roc-auc: {}'.format(roc_auc_score(y_train, pred[:,1])))\n",
    "    print('Test set')\n",
    "    pred = logit.predict_proba(X_test)\n",
    "    print('Logistic Regression roc-auc: {}'.format(roc_auc_score(y_test, pred[:,1])))"
   ]
  },
  {
   "cell_type": "code",
   "execution_count": 80,
   "metadata": {},
   "outputs": [
    {
     "name": "stdout",
     "output_type": "stream",
     "text": [
      "Train set\n",
      "Logistic Regression roc-auc: 0.6712979077075438\n",
      "Test set\n",
      "Logistic Regression roc-auc: 0.6730478259520363\n"
     ]
    }
   ],
   "source": [
    "from sklearn.preprocessing import StandardScaler\n",
    "# original\n",
    "# for logistic regression features need to be in the same scale\n",
    "\n",
    "# original\n",
    "scaler = StandardScaler().fit(X_train_original)\n",
    "\n",
    "run_logistic(scaler.transform(X_train_original),\n",
    "             scaler.transform(X_test_original),\n",
    "                  y_train, y_test)"
   ]
  },
  {
   "cell_type": "code",
   "execution_count": 83,
   "metadata": {},
   "outputs": [],
   "source": [
    "import xgboost as xgb\n",
    "from sklearn.model_selection import RandomizedSearchCV, GridSearchCV\n",
    "\n",
    "def run_xgboost(Xtrain, Xtest, ytrain, ytest):\n",
    "    X_train, X_test = Xtrain.copy(), Xtest.copy()\n",
    "    y_train, y_test = ytrain.copy(), ytest.copy()\n",
    "    model = xgb.XGBClassifier( n_estimators=500, min_child_weight=2, \n",
    "                                   gamma=5, max_depth=6, subsample=0.8, colsample_bylevel=0.8,\n",
    "                               colsample_bytree=0.8)\n",
    "    param_dist = {\"max_delta_step\": [0,1,3,6,10],\n",
    "                \"scale_pos_weight\": [1,2,3,4],}\n",
    "    grid_search = GridSearchCV(model, param_grid=param_dist,cv=5, scoring='roc_auc', verbose=False, n_jobs=-1)\n",
    "    grid_search.fit(X_train, y_train)\n",
    "    print('Train set')\n",
    "    x_pred = grid_search.predict(X_train)\n",
    "    x_pred_prob = grid_search.predict_proba(X_train)\n",
    "    print('Train Data Score : {0:.3f}'.format(grid_search.score(X_train, y_train)))\n",
    "    print('Accuracy : {0:.3f}'.format(mt.accuracy_score(y_train, x_pred)))\n",
    "    print('Recall : {0:.3f}'.format(mt.recall_score(y_train, x_pred)))\n",
    "    print('AUC : {0:.3f}'.format(mt.roc_auc_score(y_train, x_pred_prob[:,1]) ))\n",
    "    print('Precission : {0:.3f}'.format(mt.precision_score(y_train, x_pred)))\n",
    "    print('F-Beta Score : {0:.3f}'.format(mt.fbeta_score(y_train, x_pred, beta=2)))\n",
    "\n",
    "    print('Test set')\n",
    "    y_pred =grid_search.predict(X_test)\n",
    "    y_pred_prob = grid_search.predict_proba(X_test)\n",
    "    print('Test Data Score : {0:.3f}'.format(grid_search.score(X_test, y_test)))\n",
    "    print('Accuracy : {0:.3f}'.format(mt.accuracy_score(y_test, y_pred)))\n",
    "    print('Recall : {0:.3f}'.format(mt.recall_score(y_test, y_pred)))\n",
    "    print('AUC : {0:.3f}'.format(mt.roc_auc_sore(y_test, y_pred_prob[:,1]) ))\n",
    "    print('Precission : {0:.3f}'.format(mt.precision_score(y_test, y_pred)))\n",
    "    print('F-Beta Score : {0:.3f}'.format(mt.fbeta_score(y_test, y_pred, beta=2)))\n",
    "     "
   ]
  },
  {
   "cell_type": "code",
   "execution_count": 84,
   "metadata": {},
   "outputs": [
    {
     "name": "stderr",
     "output_type": "stream",
     "text": [
      "C:\\Anaconda folder\\lib\\site-packages\\xgboost\\sklearn.py:1146: UserWarning: The use of label encoder in XGBClassifier is deprecated and will be removed in a future release. To remove this warning, do the following: 1) Pass option use_label_encoder=False when constructing XGBClassifier object; and 2) Encode your labels (y) as integers starting with 0, i.e. 0, 1, 2, ..., [num_class - 1].\n",
      "  warnings.warn(label_encoder_deprecation_msg, UserWarning)\n"
     ]
    },
    {
     "name": "stdout",
     "output_type": "stream",
     "text": [
      "[13:35:13] WARNING: C:/Users/Administrator/workspace/xgboost-win64_release_1.4.0/src/learner.cc:1095: Starting in XGBoost 1.3.0, the default evaluation metric used with the objective 'binary:logistic' was changed from 'error' to 'logloss'. Explicitly set eval_metric if you'd like to restore the old behavior.\n",
      "Train set\n",
      "Train Data Score : 0.963\n",
      "Accuracy : 0.804\n",
      "Recall : 0.998\n",
      "AUC : 0.963\n",
      "Precission : 0.720\n",
      "F-Beta Score : 0.926\n",
      "Test set\n",
      "Test Data Score : 0.917\n",
      "Accuracy : 0.757\n",
      "Recall : 0.993\n",
      "AUC : 0.917\n",
      "Precission : 0.674\n",
      "F-Beta Score : 0.907\n"
     ]
    }
   ],
   "source": [
    "\n",
    "# original\n",
    "run_xgboost(X_train_original,\n",
    "                  X_test_original,\n",
    "                  y_train, y_test)"
   ]
  },
  {
   "cell_type": "code",
   "execution_count": null,
   "metadata": {},
   "outputs": [],
   "source": []
  }
 ],
 "metadata": {
  "kernelspec": {
   "display_name": "Python 3",
   "language": "python",
   "name": "python3"
  },
  "language_info": {
   "codemirror_mode": {
    "name": "ipython",
    "version": 3
   },
   "file_extension": ".py",
   "mimetype": "text/x-python",
   "name": "python",
   "nbconvert_exporter": "python",
   "pygments_lexer": "ipython3",
   "version": "3.8.5"
  }
 },
 "nbformat": 4,
 "nbformat_minor": 4
}
